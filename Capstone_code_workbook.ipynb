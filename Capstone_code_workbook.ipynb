{
 "cells": [
  {
   "cell_type": "markdown",
   "metadata": {
    "collapsed": false
   },
   "source": [
    "## COVID RECOVERY RATES"
   ]
  },
  {
   "cell_type": "markdown",
   "metadata": {
    "collapsed": false
   },
   "source": [
    "In this project I will be using a Covid-19 dataset that has data for pre-existing health conditions along with other data.\n",
    "\n",
    "I will be analysing the data and creating a model to predict whether or not a patient will die or recover.\n",
    "\n",
    "In the original dataset 1 is yes and 2 is no"
   ]
  },
  {
   "cell_type": "markdown",
   "metadata": {
    "collapsed": false
   },
   "source": [
    "## Importing the libraries"
   ]
  },
  {
   "cell_type": "code",
   "execution_count": 1,
   "metadata": {
    "collapsed": false
   },
   "outputs": [],
   "source": [
    "import numpy as np\n",
    "import seaborn as sns\n",
    "import matplotlib.pyplot as plt\n",
    "import pandas as pd\n",
    "import datetime\n",
    "\n",
    "from sklearn import metrics\n",
    "from sklearn.metrics import accuracy_score as accuracy, recall_score as recall, precision_score as precision, f1_score as f1, confusion_matrix, classification_report, ConfusionMatrixDisplay\n",
    "from sklearn.model_selection import train_test_split, cross_val_score, GridSearchCV\n",
    "from sklearn.preprocessing import MinMaxScaler, StandardScaler\n",
    "\n",
    "from sklearn.linear_model import LogisticRegression\n",
    "from sklearn.tree import DecisionTreeClassifier\n",
    "from sklearn import tree\n",
    "from sklearn.ensemble import BaggingClassifier, RandomForestClassifier, ExtraTreesClassifier\n",
    "\n",
    "import statsmodels.api as sm\n",
    "\n",
    "from imblearn.under_sampling import RandomUnderSampler"
   ]
  },
  {
   "cell_type": "code",
   "execution_count": null,
   "metadata": {
    "collapsed": false
   },
   "outputs": [],
   "source": []
  },
  {
   "cell_type": "markdown",
   "metadata": {
    "collapsed": false
   },
   "source": [
    "## Importing the data"
   ]
  },
  {
   "cell_type": "code",
   "execution_count": 2,
   "metadata": {
    "collapsed": false
   },
   "outputs": [],
   "source": [
    "covid = pd.read_csv('/Users/katiejones/Documents/Digital Futures/DATASETS/Covid Data.csv', encoding = 'utf-8', encoding_errors='ignore')"
   ]
  },
  {
   "cell_type": "code",
   "execution_count": null,
   "metadata": {
    "collapsed": false
   },
   "outputs": [],
   "source": []
  },
  {
   "cell_type": "markdown",
   "metadata": {
    "collapsed": false
   },
   "source": [
    "## Exploratory Data Analysis"
   ]
  },
  {
   "cell_type": "markdown",
   "metadata": {
    "collapsed": false
   },
   "source": [
    "1. Basic EDA - check the top 20 rows, bottom 20 rows, number of rows and columns, datatypes, and null values"
   ]
  },
  {
   "cell_type": "code",
   "execution_count": 3,
   "metadata": {
    "collapsed": false
   },
   "outputs": [
    {
     "data": {
      "text/html": [
       "<div>\n",
       "<style scoped>\n",
       "    .dataframe tbody tr th:only-of-type {\n",
       "        vertical-align: middle;\n",
       "    }\n",
       "\n",
       "    .dataframe tbody tr th {\n",
       "        vertical-align: top;\n",
       "    }\n",
       "\n",
       "    .dataframe thead th {\n",
       "        text-align: right;\n",
       "    }\n",
       "</style>\n",
       "<table border=\"1\" class=\"dataframe\">\n",
       "  <thead>\n",
       "    <tr style=\"text-align: right;\">\n",
       "      <th></th>\n",
       "      <th>USMER</th>\n",
       "      <th>MEDICAL_UNIT</th>\n",
       "      <th>SEX</th>\n",
       "      <th>PATIENT_TYPE</th>\n",
       "      <th>DATE_DIED</th>\n",
       "      <th>INTUBED</th>\n",
       "      <th>PNEUMONIA</th>\n",
       "      <th>AGE</th>\n",
       "      <th>PREGNANT</th>\n",
       "      <th>DIABETES</th>\n",
       "      <th>...</th>\n",
       "      <th>ASTHMA</th>\n",
       "      <th>INMSUPR</th>\n",
       "      <th>HIPERTENSION</th>\n",
       "      <th>OTHER_DISEASE</th>\n",
       "      <th>CARDIOVASCULAR</th>\n",
       "      <th>OBESITY</th>\n",
       "      <th>RENAL_CHRONIC</th>\n",
       "      <th>TOBACCO</th>\n",
       "      <th>CLASIFFICATION_FINAL</th>\n",
       "      <th>ICU</th>\n",
       "    </tr>\n",
       "  </thead>\n",
       "  <tbody>\n",
       "    <tr>\n",
       "      <th>0</th>\n",
       "      <td>2</td>\n",
       "      <td>1</td>\n",
       "      <td>1</td>\n",
       "      <td>1</td>\n",
       "      <td>03/05/2020</td>\n",
       "      <td>97</td>\n",
       "      <td>1</td>\n",
       "      <td>65</td>\n",
       "      <td>2</td>\n",
       "      <td>2</td>\n",
       "      <td>...</td>\n",
       "      <td>2</td>\n",
       "      <td>2</td>\n",
       "      <td>1</td>\n",
       "      <td>2</td>\n",
       "      <td>2</td>\n",
       "      <td>2</td>\n",
       "      <td>2</td>\n",
       "      <td>2</td>\n",
       "      <td>3</td>\n",
       "      <td>97</td>\n",
       "    </tr>\n",
       "    <tr>\n",
       "      <th>1</th>\n",
       "      <td>2</td>\n",
       "      <td>1</td>\n",
       "      <td>2</td>\n",
       "      <td>1</td>\n",
       "      <td>03/06/2020</td>\n",
       "      <td>97</td>\n",
       "      <td>1</td>\n",
       "      <td>72</td>\n",
       "      <td>97</td>\n",
       "      <td>2</td>\n",
       "      <td>...</td>\n",
       "      <td>2</td>\n",
       "      <td>2</td>\n",
       "      <td>1</td>\n",
       "      <td>2</td>\n",
       "      <td>2</td>\n",
       "      <td>1</td>\n",
       "      <td>1</td>\n",
       "      <td>2</td>\n",
       "      <td>5</td>\n",
       "      <td>97</td>\n",
       "    </tr>\n",
       "    <tr>\n",
       "      <th>2</th>\n",
       "      <td>2</td>\n",
       "      <td>1</td>\n",
       "      <td>2</td>\n",
       "      <td>2</td>\n",
       "      <td>09/06/2020</td>\n",
       "      <td>1</td>\n",
       "      <td>2</td>\n",
       "      <td>55</td>\n",
       "      <td>97</td>\n",
       "      <td>1</td>\n",
       "      <td>...</td>\n",
       "      <td>2</td>\n",
       "      <td>2</td>\n",
       "      <td>2</td>\n",
       "      <td>2</td>\n",
       "      <td>2</td>\n",
       "      <td>2</td>\n",
       "      <td>2</td>\n",
       "      <td>2</td>\n",
       "      <td>3</td>\n",
       "      <td>2</td>\n",
       "    </tr>\n",
       "    <tr>\n",
       "      <th>3</th>\n",
       "      <td>2</td>\n",
       "      <td>1</td>\n",
       "      <td>1</td>\n",
       "      <td>1</td>\n",
       "      <td>12/06/2020</td>\n",
       "      <td>97</td>\n",
       "      <td>2</td>\n",
       "      <td>53</td>\n",
       "      <td>2</td>\n",
       "      <td>2</td>\n",
       "      <td>...</td>\n",
       "      <td>2</td>\n",
       "      <td>2</td>\n",
       "      <td>2</td>\n",
       "      <td>2</td>\n",
       "      <td>2</td>\n",
       "      <td>2</td>\n",
       "      <td>2</td>\n",
       "      <td>2</td>\n",
       "      <td>7</td>\n",
       "      <td>97</td>\n",
       "    </tr>\n",
       "    <tr>\n",
       "      <th>4</th>\n",
       "      <td>2</td>\n",
       "      <td>1</td>\n",
       "      <td>2</td>\n",
       "      <td>1</td>\n",
       "      <td>21/06/2020</td>\n",
       "      <td>97</td>\n",
       "      <td>2</td>\n",
       "      <td>68</td>\n",
       "      <td>97</td>\n",
       "      <td>1</td>\n",
       "      <td>...</td>\n",
       "      <td>2</td>\n",
       "      <td>2</td>\n",
       "      <td>1</td>\n",
       "      <td>2</td>\n",
       "      <td>2</td>\n",
       "      <td>2</td>\n",
       "      <td>2</td>\n",
       "      <td>2</td>\n",
       "      <td>3</td>\n",
       "      <td>97</td>\n",
       "    </tr>\n",
       "    <tr>\n",
       "      <th>5</th>\n",
       "      <td>2</td>\n",
       "      <td>1</td>\n",
       "      <td>1</td>\n",
       "      <td>2</td>\n",
       "      <td>9999-99-99</td>\n",
       "      <td>2</td>\n",
       "      <td>1</td>\n",
       "      <td>40</td>\n",
       "      <td>2</td>\n",
       "      <td>2</td>\n",
       "      <td>...</td>\n",
       "      <td>2</td>\n",
       "      <td>2</td>\n",
       "      <td>2</td>\n",
       "      <td>2</td>\n",
       "      <td>2</td>\n",
       "      <td>2</td>\n",
       "      <td>2</td>\n",
       "      <td>2</td>\n",
       "      <td>3</td>\n",
       "      <td>2</td>\n",
       "    </tr>\n",
       "    <tr>\n",
       "      <th>6</th>\n",
       "      <td>2</td>\n",
       "      <td>1</td>\n",
       "      <td>1</td>\n",
       "      <td>1</td>\n",
       "      <td>9999-99-99</td>\n",
       "      <td>97</td>\n",
       "      <td>2</td>\n",
       "      <td>64</td>\n",
       "      <td>2</td>\n",
       "      <td>2</td>\n",
       "      <td>...</td>\n",
       "      <td>2</td>\n",
       "      <td>2</td>\n",
       "      <td>2</td>\n",
       "      <td>2</td>\n",
       "      <td>2</td>\n",
       "      <td>2</td>\n",
       "      <td>2</td>\n",
       "      <td>2</td>\n",
       "      <td>3</td>\n",
       "      <td>97</td>\n",
       "    </tr>\n",
       "    <tr>\n",
       "      <th>7</th>\n",
       "      <td>2</td>\n",
       "      <td>1</td>\n",
       "      <td>1</td>\n",
       "      <td>1</td>\n",
       "      <td>9999-99-99</td>\n",
       "      <td>97</td>\n",
       "      <td>1</td>\n",
       "      <td>64</td>\n",
       "      <td>2</td>\n",
       "      <td>1</td>\n",
       "      <td>...</td>\n",
       "      <td>2</td>\n",
       "      <td>1</td>\n",
       "      <td>1</td>\n",
       "      <td>2</td>\n",
       "      <td>2</td>\n",
       "      <td>2</td>\n",
       "      <td>1</td>\n",
       "      <td>2</td>\n",
       "      <td>3</td>\n",
       "      <td>97</td>\n",
       "    </tr>\n",
       "    <tr>\n",
       "      <th>8</th>\n",
       "      <td>2</td>\n",
       "      <td>1</td>\n",
       "      <td>1</td>\n",
       "      <td>2</td>\n",
       "      <td>9999-99-99</td>\n",
       "      <td>2</td>\n",
       "      <td>2</td>\n",
       "      <td>37</td>\n",
       "      <td>2</td>\n",
       "      <td>1</td>\n",
       "      <td>...</td>\n",
       "      <td>2</td>\n",
       "      <td>2</td>\n",
       "      <td>1</td>\n",
       "      <td>2</td>\n",
       "      <td>2</td>\n",
       "      <td>1</td>\n",
       "      <td>2</td>\n",
       "      <td>2</td>\n",
       "      <td>3</td>\n",
       "      <td>2</td>\n",
       "    </tr>\n",
       "    <tr>\n",
       "      <th>9</th>\n",
       "      <td>2</td>\n",
       "      <td>1</td>\n",
       "      <td>1</td>\n",
       "      <td>2</td>\n",
       "      <td>9999-99-99</td>\n",
       "      <td>2</td>\n",
       "      <td>2</td>\n",
       "      <td>25</td>\n",
       "      <td>2</td>\n",
       "      <td>2</td>\n",
       "      <td>...</td>\n",
       "      <td>2</td>\n",
       "      <td>2</td>\n",
       "      <td>2</td>\n",
       "      <td>2</td>\n",
       "      <td>2</td>\n",
       "      <td>2</td>\n",
       "      <td>2</td>\n",
       "      <td>2</td>\n",
       "      <td>3</td>\n",
       "      <td>2</td>\n",
       "    </tr>\n",
       "    <tr>\n",
       "      <th>10</th>\n",
       "      <td>2</td>\n",
       "      <td>1</td>\n",
       "      <td>1</td>\n",
       "      <td>1</td>\n",
       "      <td>9999-99-99</td>\n",
       "      <td>97</td>\n",
       "      <td>2</td>\n",
       "      <td>38</td>\n",
       "      <td>2</td>\n",
       "      <td>2</td>\n",
       "      <td>...</td>\n",
       "      <td>2</td>\n",
       "      <td>2</td>\n",
       "      <td>2</td>\n",
       "      <td>2</td>\n",
       "      <td>2</td>\n",
       "      <td>2</td>\n",
       "      <td>2</td>\n",
       "      <td>2</td>\n",
       "      <td>3</td>\n",
       "      <td>97</td>\n",
       "    </tr>\n",
       "    <tr>\n",
       "      <th>11</th>\n",
       "      <td>2</td>\n",
       "      <td>1</td>\n",
       "      <td>2</td>\n",
       "      <td>2</td>\n",
       "      <td>9999-99-99</td>\n",
       "      <td>2</td>\n",
       "      <td>2</td>\n",
       "      <td>24</td>\n",
       "      <td>97</td>\n",
       "      <td>2</td>\n",
       "      <td>...</td>\n",
       "      <td>2</td>\n",
       "      <td>2</td>\n",
       "      <td>2</td>\n",
       "      <td>2</td>\n",
       "      <td>2</td>\n",
       "      <td>2</td>\n",
       "      <td>2</td>\n",
       "      <td>2</td>\n",
       "      <td>3</td>\n",
       "      <td>2</td>\n",
       "    </tr>\n",
       "    <tr>\n",
       "      <th>12</th>\n",
       "      <td>2</td>\n",
       "      <td>1</td>\n",
       "      <td>2</td>\n",
       "      <td>2</td>\n",
       "      <td>9999-99-99</td>\n",
       "      <td>2</td>\n",
       "      <td>2</td>\n",
       "      <td>30</td>\n",
       "      <td>97</td>\n",
       "      <td>2</td>\n",
       "      <td>...</td>\n",
       "      <td>2</td>\n",
       "      <td>2</td>\n",
       "      <td>2</td>\n",
       "      <td>2</td>\n",
       "      <td>2</td>\n",
       "      <td>2</td>\n",
       "      <td>2</td>\n",
       "      <td>2</td>\n",
       "      <td>3</td>\n",
       "      <td>2</td>\n",
       "    </tr>\n",
       "    <tr>\n",
       "      <th>13</th>\n",
       "      <td>2</td>\n",
       "      <td>1</td>\n",
       "      <td>2</td>\n",
       "      <td>1</td>\n",
       "      <td>9999-99-99</td>\n",
       "      <td>97</td>\n",
       "      <td>2</td>\n",
       "      <td>55</td>\n",
       "      <td>97</td>\n",
       "      <td>2</td>\n",
       "      <td>...</td>\n",
       "      <td>2</td>\n",
       "      <td>2</td>\n",
       "      <td>2</td>\n",
       "      <td>2</td>\n",
       "      <td>2</td>\n",
       "      <td>2</td>\n",
       "      <td>2</td>\n",
       "      <td>2</td>\n",
       "      <td>3</td>\n",
       "      <td>97</td>\n",
       "    </tr>\n",
       "    <tr>\n",
       "      <th>14</th>\n",
       "      <td>2</td>\n",
       "      <td>1</td>\n",
       "      <td>1</td>\n",
       "      <td>1</td>\n",
       "      <td>9999-99-99</td>\n",
       "      <td>97</td>\n",
       "      <td>2</td>\n",
       "      <td>48</td>\n",
       "      <td>2</td>\n",
       "      <td>1</td>\n",
       "      <td>...</td>\n",
       "      <td>2</td>\n",
       "      <td>2</td>\n",
       "      <td>2</td>\n",
       "      <td>2</td>\n",
       "      <td>2</td>\n",
       "      <td>2</td>\n",
       "      <td>2</td>\n",
       "      <td>2</td>\n",
       "      <td>3</td>\n",
       "      <td>97</td>\n",
       "    </tr>\n",
       "    <tr>\n",
       "      <th>15</th>\n",
       "      <td>2</td>\n",
       "      <td>1</td>\n",
       "      <td>1</td>\n",
       "      <td>1</td>\n",
       "      <td>9999-99-99</td>\n",
       "      <td>97</td>\n",
       "      <td>2</td>\n",
       "      <td>23</td>\n",
       "      <td>2</td>\n",
       "      <td>2</td>\n",
       "      <td>...</td>\n",
       "      <td>2</td>\n",
       "      <td>2</td>\n",
       "      <td>2</td>\n",
       "      <td>2</td>\n",
       "      <td>2</td>\n",
       "      <td>2</td>\n",
       "      <td>2</td>\n",
       "      <td>2</td>\n",
       "      <td>3</td>\n",
       "      <td>97</td>\n",
       "    </tr>\n",
       "    <tr>\n",
       "      <th>16</th>\n",
       "      <td>2</td>\n",
       "      <td>1</td>\n",
       "      <td>1</td>\n",
       "      <td>2</td>\n",
       "      <td>9999-99-99</td>\n",
       "      <td>2</td>\n",
       "      <td>1</td>\n",
       "      <td>80</td>\n",
       "      <td>2</td>\n",
       "      <td>2</td>\n",
       "      <td>...</td>\n",
       "      <td>2</td>\n",
       "      <td>2</td>\n",
       "      <td>1</td>\n",
       "      <td>2</td>\n",
       "      <td>2</td>\n",
       "      <td>2</td>\n",
       "      <td>2</td>\n",
       "      <td>2</td>\n",
       "      <td>3</td>\n",
       "      <td>1</td>\n",
       "    </tr>\n",
       "    <tr>\n",
       "      <th>17</th>\n",
       "      <td>2</td>\n",
       "      <td>1</td>\n",
       "      <td>2</td>\n",
       "      <td>1</td>\n",
       "      <td>9999-99-99</td>\n",
       "      <td>97</td>\n",
       "      <td>2</td>\n",
       "      <td>61</td>\n",
       "      <td>97</td>\n",
       "      <td>2</td>\n",
       "      <td>...</td>\n",
       "      <td>2</td>\n",
       "      <td>2</td>\n",
       "      <td>2</td>\n",
       "      <td>2</td>\n",
       "      <td>2</td>\n",
       "      <td>2</td>\n",
       "      <td>2</td>\n",
       "      <td>2</td>\n",
       "      <td>3</td>\n",
       "      <td>97</td>\n",
       "    </tr>\n",
       "    <tr>\n",
       "      <th>18</th>\n",
       "      <td>2</td>\n",
       "      <td>1</td>\n",
       "      <td>2</td>\n",
       "      <td>1</td>\n",
       "      <td>9999-99-99</td>\n",
       "      <td>97</td>\n",
       "      <td>2</td>\n",
       "      <td>54</td>\n",
       "      <td>97</td>\n",
       "      <td>2</td>\n",
       "      <td>...</td>\n",
       "      <td>2</td>\n",
       "      <td>2</td>\n",
       "      <td>2</td>\n",
       "      <td>2</td>\n",
       "      <td>2</td>\n",
       "      <td>2</td>\n",
       "      <td>2</td>\n",
       "      <td>2</td>\n",
       "      <td>3</td>\n",
       "      <td>97</td>\n",
       "    </tr>\n",
       "    <tr>\n",
       "      <th>19</th>\n",
       "      <td>2</td>\n",
       "      <td>1</td>\n",
       "      <td>1</td>\n",
       "      <td>1</td>\n",
       "      <td>9999-99-99</td>\n",
       "      <td>97</td>\n",
       "      <td>2</td>\n",
       "      <td>64</td>\n",
       "      <td>2</td>\n",
       "      <td>2</td>\n",
       "      <td>...</td>\n",
       "      <td>2</td>\n",
       "      <td>2</td>\n",
       "      <td>2</td>\n",
       "      <td>2</td>\n",
       "      <td>2</td>\n",
       "      <td>2</td>\n",
       "      <td>2</td>\n",
       "      <td>2</td>\n",
       "      <td>3</td>\n",
       "      <td>97</td>\n",
       "    </tr>\n",
       "  </tbody>\n",
       "</table>\n",
       "<p>20 rows × 21 columns</p>\n",
       "</div>"
      ],
      "text/plain": [
       "    USMER  MEDICAL_UNIT  SEX  PATIENT_TYPE   DATE_DIED  INTUBED  PNEUMONIA  \\\n",
       "0       2             1    1             1  03/05/2020       97          1   \n",
       "1       2             1    2             1  03/06/2020       97          1   \n",
       "2       2             1    2             2  09/06/2020        1          2   \n",
       "3       2             1    1             1  12/06/2020       97          2   \n",
       "4       2             1    2             1  21/06/2020       97          2   \n",
       "5       2             1    1             2  9999-99-99        2          1   \n",
       "6       2             1    1             1  9999-99-99       97          2   \n",
       "7       2             1    1             1  9999-99-99       97          1   \n",
       "8       2             1    1             2  9999-99-99        2          2   \n",
       "9       2             1    1             2  9999-99-99        2          2   \n",
       "10      2             1    1             1  9999-99-99       97          2   \n",
       "11      2             1    2             2  9999-99-99        2          2   \n",
       "12      2             1    2             2  9999-99-99        2          2   \n",
       "13      2             1    2             1  9999-99-99       97          2   \n",
       "14      2             1    1             1  9999-99-99       97          2   \n",
       "15      2             1    1             1  9999-99-99       97          2   \n",
       "16      2             1    1             2  9999-99-99        2          1   \n",
       "17      2             1    2             1  9999-99-99       97          2   \n",
       "18      2             1    2             1  9999-99-99       97          2   \n",
       "19      2             1    1             1  9999-99-99       97          2   \n",
       "\n",
       "    AGE  PREGNANT  DIABETES  ...  ASTHMA  INMSUPR  HIPERTENSION  \\\n",
       "0    65         2         2  ...       2        2             1   \n",
       "1    72        97         2  ...       2        2             1   \n",
       "2    55        97         1  ...       2        2             2   \n",
       "3    53         2         2  ...       2        2             2   \n",
       "4    68        97         1  ...       2        2             1   \n",
       "5    40         2         2  ...       2        2             2   \n",
       "6    64         2         2  ...       2        2             2   \n",
       "7    64         2         1  ...       2        1             1   \n",
       "8    37         2         1  ...       2        2             1   \n",
       "9    25         2         2  ...       2        2             2   \n",
       "10   38         2         2  ...       2        2             2   \n",
       "11   24        97         2  ...       2        2             2   \n",
       "12   30        97         2  ...       2        2             2   \n",
       "13   55        97         2  ...       2        2             2   \n",
       "14   48         2         1  ...       2        2             2   \n",
       "15   23         2         2  ...       2        2             2   \n",
       "16   80         2         2  ...       2        2             1   \n",
       "17   61        97         2  ...       2        2             2   \n",
       "18   54        97         2  ...       2        2             2   \n",
       "19   64         2         2  ...       2        2             2   \n",
       "\n",
       "    OTHER_DISEASE  CARDIOVASCULAR  OBESITY  RENAL_CHRONIC  TOBACCO  \\\n",
       "0               2               2        2              2        2   \n",
       "1               2               2        1              1        2   \n",
       "2               2               2        2              2        2   \n",
       "3               2               2        2              2        2   \n",
       "4               2               2        2              2        2   \n",
       "5               2               2        2              2        2   \n",
       "6               2               2        2              2        2   \n",
       "7               2               2        2              1        2   \n",
       "8               2               2        1              2        2   \n",
       "9               2               2        2              2        2   \n",
       "10              2               2        2              2        2   \n",
       "11              2               2        2              2        2   \n",
       "12              2               2        2              2        2   \n",
       "13              2               2        2              2        2   \n",
       "14              2               2        2              2        2   \n",
       "15              2               2        2              2        2   \n",
       "16              2               2        2              2        2   \n",
       "17              2               2        2              2        2   \n",
       "18              2               2        2              2        2   \n",
       "19              2               2        2              2        2   \n",
       "\n",
       "    CLASIFFICATION_FINAL  ICU  \n",
       "0                      3   97  \n",
       "1                      5   97  \n",
       "2                      3    2  \n",
       "3                      7   97  \n",
       "4                      3   97  \n",
       "5                      3    2  \n",
       "6                      3   97  \n",
       "7                      3   97  \n",
       "8                      3    2  \n",
       "9                      3    2  \n",
       "10                     3   97  \n",
       "11                     3    2  \n",
       "12                     3    2  \n",
       "13                     3   97  \n",
       "14                     3   97  \n",
       "15                     3   97  \n",
       "16                     3    1  \n",
       "17                     3   97  \n",
       "18                     3   97  \n",
       "19                     3   97  \n",
       "\n",
       "[20 rows x 21 columns]"
      ]
     },
     "execution_count": 3,
     "metadata": {},
     "output_type": "execute_result"
    }
   ],
   "source": [
    "## Looking at the top 20 rows\n",
    "\n",
    "covid.head(20)"
   ]
  },
  {
   "cell_type": "code",
   "execution_count": 4,
   "metadata": {
    "collapsed": false
   },
   "outputs": [
    {
     "data": {
      "text/html": [
       "<div>\n",
       "<style scoped>\n",
       "    .dataframe tbody tr th:only-of-type {\n",
       "        vertical-align: middle;\n",
       "    }\n",
       "\n",
       "    .dataframe tbody tr th {\n",
       "        vertical-align: top;\n",
       "    }\n",
       "\n",
       "    .dataframe thead th {\n",
       "        text-align: right;\n",
       "    }\n",
       "</style>\n",
       "<table border=\"1\" class=\"dataframe\">\n",
       "  <thead>\n",
       "    <tr style=\"text-align: right;\">\n",
       "      <th></th>\n",
       "      <th>USMER</th>\n",
       "      <th>MEDICAL_UNIT</th>\n",
       "      <th>SEX</th>\n",
       "      <th>PATIENT_TYPE</th>\n",
       "      <th>DATE_DIED</th>\n",
       "      <th>INTUBED</th>\n",
       "      <th>PNEUMONIA</th>\n",
       "      <th>AGE</th>\n",
       "      <th>PREGNANT</th>\n",
       "      <th>DIABETES</th>\n",
       "      <th>...</th>\n",
       "      <th>ASTHMA</th>\n",
       "      <th>INMSUPR</th>\n",
       "      <th>HIPERTENSION</th>\n",
       "      <th>OTHER_DISEASE</th>\n",
       "      <th>CARDIOVASCULAR</th>\n",
       "      <th>OBESITY</th>\n",
       "      <th>RENAL_CHRONIC</th>\n",
       "      <th>TOBACCO</th>\n",
       "      <th>CLASIFFICATION_FINAL</th>\n",
       "      <th>ICU</th>\n",
       "    </tr>\n",
       "  </thead>\n",
       "  <tbody>\n",
       "    <tr>\n",
       "      <th>1048555</th>\n",
       "      <td>1</td>\n",
       "      <td>13</td>\n",
       "      <td>2</td>\n",
       "      <td>1</td>\n",
       "      <td>9999-99-99</td>\n",
       "      <td>97</td>\n",
       "      <td>2</td>\n",
       "      <td>30</td>\n",
       "      <td>97</td>\n",
       "      <td>2</td>\n",
       "      <td>...</td>\n",
       "      <td>2</td>\n",
       "      <td>2</td>\n",
       "      <td>2</td>\n",
       "      <td>2</td>\n",
       "      <td>2</td>\n",
       "      <td>2</td>\n",
       "      <td>2</td>\n",
       "      <td>2</td>\n",
       "      <td>7</td>\n",
       "      <td>97</td>\n",
       "    </tr>\n",
       "    <tr>\n",
       "      <th>1048556</th>\n",
       "      <td>2</td>\n",
       "      <td>13</td>\n",
       "      <td>2</td>\n",
       "      <td>1</td>\n",
       "      <td>9999-99-99</td>\n",
       "      <td>97</td>\n",
       "      <td>2</td>\n",
       "      <td>31</td>\n",
       "      <td>97</td>\n",
       "      <td>2</td>\n",
       "      <td>...</td>\n",
       "      <td>2</td>\n",
       "      <td>2</td>\n",
       "      <td>2</td>\n",
       "      <td>2</td>\n",
       "      <td>2</td>\n",
       "      <td>2</td>\n",
       "      <td>2</td>\n",
       "      <td>2</td>\n",
       "      <td>7</td>\n",
       "      <td>97</td>\n",
       "    </tr>\n",
       "    <tr>\n",
       "      <th>1048557</th>\n",
       "      <td>2</td>\n",
       "      <td>13</td>\n",
       "      <td>2</td>\n",
       "      <td>1</td>\n",
       "      <td>9999-99-99</td>\n",
       "      <td>97</td>\n",
       "      <td>2</td>\n",
       "      <td>51</td>\n",
       "      <td>97</td>\n",
       "      <td>2</td>\n",
       "      <td>...</td>\n",
       "      <td>2</td>\n",
       "      <td>2</td>\n",
       "      <td>1</td>\n",
       "      <td>2</td>\n",
       "      <td>2</td>\n",
       "      <td>2</td>\n",
       "      <td>2</td>\n",
       "      <td>2</td>\n",
       "      <td>7</td>\n",
       "      <td>97</td>\n",
       "    </tr>\n",
       "    <tr>\n",
       "      <th>1048558</th>\n",
       "      <td>1</td>\n",
       "      <td>13</td>\n",
       "      <td>2</td>\n",
       "      <td>1</td>\n",
       "      <td>9999-99-99</td>\n",
       "      <td>97</td>\n",
       "      <td>2</td>\n",
       "      <td>28</td>\n",
       "      <td>97</td>\n",
       "      <td>2</td>\n",
       "      <td>...</td>\n",
       "      <td>2</td>\n",
       "      <td>2</td>\n",
       "      <td>2</td>\n",
       "      <td>2</td>\n",
       "      <td>2</td>\n",
       "      <td>2</td>\n",
       "      <td>2</td>\n",
       "      <td>2</td>\n",
       "      <td>7</td>\n",
       "      <td>97</td>\n",
       "    </tr>\n",
       "    <tr>\n",
       "      <th>1048559</th>\n",
       "      <td>2</td>\n",
       "      <td>13</td>\n",
       "      <td>2</td>\n",
       "      <td>1</td>\n",
       "      <td>9999-99-99</td>\n",
       "      <td>97</td>\n",
       "      <td>2</td>\n",
       "      <td>51</td>\n",
       "      <td>97</td>\n",
       "      <td>2</td>\n",
       "      <td>...</td>\n",
       "      <td>2</td>\n",
       "      <td>2</td>\n",
       "      <td>2</td>\n",
       "      <td>2</td>\n",
       "      <td>2</td>\n",
       "      <td>2</td>\n",
       "      <td>2</td>\n",
       "      <td>2</td>\n",
       "      <td>7</td>\n",
       "      <td>97</td>\n",
       "    </tr>\n",
       "    <tr>\n",
       "      <th>1048560</th>\n",
       "      <td>1</td>\n",
       "      <td>13</td>\n",
       "      <td>2</td>\n",
       "      <td>1</td>\n",
       "      <td>9999-99-99</td>\n",
       "      <td>97</td>\n",
       "      <td>2</td>\n",
       "      <td>77</td>\n",
       "      <td>97</td>\n",
       "      <td>2</td>\n",
       "      <td>...</td>\n",
       "      <td>2</td>\n",
       "      <td>2</td>\n",
       "      <td>2</td>\n",
       "      <td>2</td>\n",
       "      <td>2</td>\n",
       "      <td>2</td>\n",
       "      <td>2</td>\n",
       "      <td>2</td>\n",
       "      <td>7</td>\n",
       "      <td>97</td>\n",
       "    </tr>\n",
       "    <tr>\n",
       "      <th>1048561</th>\n",
       "      <td>2</td>\n",
       "      <td>13</td>\n",
       "      <td>2</td>\n",
       "      <td>1</td>\n",
       "      <td>9999-99-99</td>\n",
       "      <td>97</td>\n",
       "      <td>2</td>\n",
       "      <td>45</td>\n",
       "      <td>97</td>\n",
       "      <td>2</td>\n",
       "      <td>...</td>\n",
       "      <td>2</td>\n",
       "      <td>2</td>\n",
       "      <td>1</td>\n",
       "      <td>1</td>\n",
       "      <td>1</td>\n",
       "      <td>2</td>\n",
       "      <td>2</td>\n",
       "      <td>1</td>\n",
       "      <td>7</td>\n",
       "      <td>97</td>\n",
       "    </tr>\n",
       "    <tr>\n",
       "      <th>1048562</th>\n",
       "      <td>2</td>\n",
       "      <td>13</td>\n",
       "      <td>2</td>\n",
       "      <td>1</td>\n",
       "      <td>9999-99-99</td>\n",
       "      <td>97</td>\n",
       "      <td>2</td>\n",
       "      <td>57</td>\n",
       "      <td>97</td>\n",
       "      <td>2</td>\n",
       "      <td>...</td>\n",
       "      <td>2</td>\n",
       "      <td>2</td>\n",
       "      <td>2</td>\n",
       "      <td>2</td>\n",
       "      <td>2</td>\n",
       "      <td>2</td>\n",
       "      <td>2</td>\n",
       "      <td>2</td>\n",
       "      <td>7</td>\n",
       "      <td>97</td>\n",
       "    </tr>\n",
       "    <tr>\n",
       "      <th>1048563</th>\n",
       "      <td>2</td>\n",
       "      <td>13</td>\n",
       "      <td>1</td>\n",
       "      <td>1</td>\n",
       "      <td>9999-99-99</td>\n",
       "      <td>97</td>\n",
       "      <td>2</td>\n",
       "      <td>46</td>\n",
       "      <td>2</td>\n",
       "      <td>2</td>\n",
       "      <td>...</td>\n",
       "      <td>2</td>\n",
       "      <td>2</td>\n",
       "      <td>2</td>\n",
       "      <td>2</td>\n",
       "      <td>2</td>\n",
       "      <td>2</td>\n",
       "      <td>2</td>\n",
       "      <td>2</td>\n",
       "      <td>7</td>\n",
       "      <td>97</td>\n",
       "    </tr>\n",
       "    <tr>\n",
       "      <th>1048564</th>\n",
       "      <td>1</td>\n",
       "      <td>13</td>\n",
       "      <td>1</td>\n",
       "      <td>1</td>\n",
       "      <td>9999-99-99</td>\n",
       "      <td>97</td>\n",
       "      <td>2</td>\n",
       "      <td>30</td>\n",
       "      <td>2</td>\n",
       "      <td>2</td>\n",
       "      <td>...</td>\n",
       "      <td>2</td>\n",
       "      <td>2</td>\n",
       "      <td>2</td>\n",
       "      <td>2</td>\n",
       "      <td>2</td>\n",
       "      <td>2</td>\n",
       "      <td>2</td>\n",
       "      <td>1</td>\n",
       "      <td>7</td>\n",
       "      <td>97</td>\n",
       "    </tr>\n",
       "    <tr>\n",
       "      <th>1048565</th>\n",
       "      <td>1</td>\n",
       "      <td>13</td>\n",
       "      <td>1</td>\n",
       "      <td>1</td>\n",
       "      <td>9999-99-99</td>\n",
       "      <td>97</td>\n",
       "      <td>2</td>\n",
       "      <td>39</td>\n",
       "      <td>2</td>\n",
       "      <td>2</td>\n",
       "      <td>...</td>\n",
       "      <td>2</td>\n",
       "      <td>2</td>\n",
       "      <td>2</td>\n",
       "      <td>2</td>\n",
       "      <td>2</td>\n",
       "      <td>2</td>\n",
       "      <td>2</td>\n",
       "      <td>2</td>\n",
       "      <td>7</td>\n",
       "      <td>97</td>\n",
       "    </tr>\n",
       "    <tr>\n",
       "      <th>1048566</th>\n",
       "      <td>2</td>\n",
       "      <td>13</td>\n",
       "      <td>2</td>\n",
       "      <td>1</td>\n",
       "      <td>9999-99-99</td>\n",
       "      <td>97</td>\n",
       "      <td>2</td>\n",
       "      <td>24</td>\n",
       "      <td>97</td>\n",
       "      <td>2</td>\n",
       "      <td>...</td>\n",
       "      <td>1</td>\n",
       "      <td>2</td>\n",
       "      <td>2</td>\n",
       "      <td>2</td>\n",
       "      <td>2</td>\n",
       "      <td>2</td>\n",
       "      <td>2</td>\n",
       "      <td>2</td>\n",
       "      <td>7</td>\n",
       "      <td>97</td>\n",
       "    </tr>\n",
       "    <tr>\n",
       "      <th>1048567</th>\n",
       "      <td>1</td>\n",
       "      <td>13</td>\n",
       "      <td>1</td>\n",
       "      <td>2</td>\n",
       "      <td>9999-99-99</td>\n",
       "      <td>2</td>\n",
       "      <td>2</td>\n",
       "      <td>23</td>\n",
       "      <td>2</td>\n",
       "      <td>1</td>\n",
       "      <td>...</td>\n",
       "      <td>2</td>\n",
       "      <td>2</td>\n",
       "      <td>2</td>\n",
       "      <td>2</td>\n",
       "      <td>2</td>\n",
       "      <td>1</td>\n",
       "      <td>2</td>\n",
       "      <td>2</td>\n",
       "      <td>7</td>\n",
       "      <td>2</td>\n",
       "    </tr>\n",
       "    <tr>\n",
       "      <th>1048568</th>\n",
       "      <td>1</td>\n",
       "      <td>13</td>\n",
       "      <td>2</td>\n",
       "      <td>1</td>\n",
       "      <td>9999-99-99</td>\n",
       "      <td>97</td>\n",
       "      <td>2</td>\n",
       "      <td>47</td>\n",
       "      <td>97</td>\n",
       "      <td>1</td>\n",
       "      <td>...</td>\n",
       "      <td>2</td>\n",
       "      <td>2</td>\n",
       "      <td>2</td>\n",
       "      <td>2</td>\n",
       "      <td>2</td>\n",
       "      <td>2</td>\n",
       "      <td>2</td>\n",
       "      <td>2</td>\n",
       "      <td>7</td>\n",
       "      <td>97</td>\n",
       "    </tr>\n",
       "    <tr>\n",
       "      <th>1048569</th>\n",
       "      <td>1</td>\n",
       "      <td>13</td>\n",
       "      <td>1</td>\n",
       "      <td>2</td>\n",
       "      <td>9999-99-99</td>\n",
       "      <td>2</td>\n",
       "      <td>2</td>\n",
       "      <td>56</td>\n",
       "      <td>2</td>\n",
       "      <td>1</td>\n",
       "      <td>...</td>\n",
       "      <td>2</td>\n",
       "      <td>2</td>\n",
       "      <td>2</td>\n",
       "      <td>2</td>\n",
       "      <td>2</td>\n",
       "      <td>2</td>\n",
       "      <td>2</td>\n",
       "      <td>2</td>\n",
       "      <td>7</td>\n",
       "      <td>2</td>\n",
       "    </tr>\n",
       "    <tr>\n",
       "      <th>1048570</th>\n",
       "      <td>2</td>\n",
       "      <td>13</td>\n",
       "      <td>2</td>\n",
       "      <td>1</td>\n",
       "      <td>9999-99-99</td>\n",
       "      <td>97</td>\n",
       "      <td>2</td>\n",
       "      <td>40</td>\n",
       "      <td>97</td>\n",
       "      <td>2</td>\n",
       "      <td>...</td>\n",
       "      <td>2</td>\n",
       "      <td>2</td>\n",
       "      <td>2</td>\n",
       "      <td>2</td>\n",
       "      <td>2</td>\n",
       "      <td>2</td>\n",
       "      <td>2</td>\n",
       "      <td>2</td>\n",
       "      <td>7</td>\n",
       "      <td>97</td>\n",
       "    </tr>\n",
       "    <tr>\n",
       "      <th>1048571</th>\n",
       "      <td>1</td>\n",
       "      <td>13</td>\n",
       "      <td>2</td>\n",
       "      <td>2</td>\n",
       "      <td>9999-99-99</td>\n",
       "      <td>2</td>\n",
       "      <td>2</td>\n",
       "      <td>51</td>\n",
       "      <td>97</td>\n",
       "      <td>2</td>\n",
       "      <td>...</td>\n",
       "      <td>2</td>\n",
       "      <td>2</td>\n",
       "      <td>1</td>\n",
       "      <td>2</td>\n",
       "      <td>2</td>\n",
       "      <td>2</td>\n",
       "      <td>2</td>\n",
       "      <td>2</td>\n",
       "      <td>7</td>\n",
       "      <td>2</td>\n",
       "    </tr>\n",
       "    <tr>\n",
       "      <th>1048572</th>\n",
       "      <td>2</td>\n",
       "      <td>13</td>\n",
       "      <td>2</td>\n",
       "      <td>1</td>\n",
       "      <td>9999-99-99</td>\n",
       "      <td>97</td>\n",
       "      <td>2</td>\n",
       "      <td>55</td>\n",
       "      <td>97</td>\n",
       "      <td>2</td>\n",
       "      <td>...</td>\n",
       "      <td>2</td>\n",
       "      <td>2</td>\n",
       "      <td>2</td>\n",
       "      <td>2</td>\n",
       "      <td>2</td>\n",
       "      <td>2</td>\n",
       "      <td>2</td>\n",
       "      <td>2</td>\n",
       "      <td>7</td>\n",
       "      <td>97</td>\n",
       "    </tr>\n",
       "    <tr>\n",
       "      <th>1048573</th>\n",
       "      <td>2</td>\n",
       "      <td>13</td>\n",
       "      <td>2</td>\n",
       "      <td>1</td>\n",
       "      <td>9999-99-99</td>\n",
       "      <td>97</td>\n",
       "      <td>2</td>\n",
       "      <td>28</td>\n",
       "      <td>97</td>\n",
       "      <td>2</td>\n",
       "      <td>...</td>\n",
       "      <td>2</td>\n",
       "      <td>2</td>\n",
       "      <td>2</td>\n",
       "      <td>2</td>\n",
       "      <td>2</td>\n",
       "      <td>2</td>\n",
       "      <td>2</td>\n",
       "      <td>2</td>\n",
       "      <td>7</td>\n",
       "      <td>97</td>\n",
       "    </tr>\n",
       "    <tr>\n",
       "      <th>1048574</th>\n",
       "      <td>2</td>\n",
       "      <td>13</td>\n",
       "      <td>2</td>\n",
       "      <td>1</td>\n",
       "      <td>9999-99-99</td>\n",
       "      <td>97</td>\n",
       "      <td>2</td>\n",
       "      <td>52</td>\n",
       "      <td>97</td>\n",
       "      <td>2</td>\n",
       "      <td>...</td>\n",
       "      <td>2</td>\n",
       "      <td>2</td>\n",
       "      <td>2</td>\n",
       "      <td>2</td>\n",
       "      <td>2</td>\n",
       "      <td>2</td>\n",
       "      <td>2</td>\n",
       "      <td>2</td>\n",
       "      <td>7</td>\n",
       "      <td>97</td>\n",
       "    </tr>\n",
       "  </tbody>\n",
       "</table>\n",
       "<p>20 rows × 21 columns</p>\n",
       "</div>"
      ],
      "text/plain": [
       "         USMER  MEDICAL_UNIT  SEX  PATIENT_TYPE   DATE_DIED  INTUBED  \\\n",
       "1048555      1            13    2             1  9999-99-99       97   \n",
       "1048556      2            13    2             1  9999-99-99       97   \n",
       "1048557      2            13    2             1  9999-99-99       97   \n",
       "1048558      1            13    2             1  9999-99-99       97   \n",
       "1048559      2            13    2             1  9999-99-99       97   \n",
       "1048560      1            13    2             1  9999-99-99       97   \n",
       "1048561      2            13    2             1  9999-99-99       97   \n",
       "1048562      2            13    2             1  9999-99-99       97   \n",
       "1048563      2            13    1             1  9999-99-99       97   \n",
       "1048564      1            13    1             1  9999-99-99       97   \n",
       "1048565      1            13    1             1  9999-99-99       97   \n",
       "1048566      2            13    2             1  9999-99-99       97   \n",
       "1048567      1            13    1             2  9999-99-99        2   \n",
       "1048568      1            13    2             1  9999-99-99       97   \n",
       "1048569      1            13    1             2  9999-99-99        2   \n",
       "1048570      2            13    2             1  9999-99-99       97   \n",
       "1048571      1            13    2             2  9999-99-99        2   \n",
       "1048572      2            13    2             1  9999-99-99       97   \n",
       "1048573      2            13    2             1  9999-99-99       97   \n",
       "1048574      2            13    2             1  9999-99-99       97   \n",
       "\n",
       "         PNEUMONIA  AGE  PREGNANT  DIABETES  ...  ASTHMA  INMSUPR  \\\n",
       "1048555          2   30        97         2  ...       2        2   \n",
       "1048556          2   31        97         2  ...       2        2   \n",
       "1048557          2   51        97         2  ...       2        2   \n",
       "1048558          2   28        97         2  ...       2        2   \n",
       "1048559          2   51        97         2  ...       2        2   \n",
       "1048560          2   77        97         2  ...       2        2   \n",
       "1048561          2   45        97         2  ...       2        2   \n",
       "1048562          2   57        97         2  ...       2        2   \n",
       "1048563          2   46         2         2  ...       2        2   \n",
       "1048564          2   30         2         2  ...       2        2   \n",
       "1048565          2   39         2         2  ...       2        2   \n",
       "1048566          2   24        97         2  ...       1        2   \n",
       "1048567          2   23         2         1  ...       2        2   \n",
       "1048568          2   47        97         1  ...       2        2   \n",
       "1048569          2   56         2         1  ...       2        2   \n",
       "1048570          2   40        97         2  ...       2        2   \n",
       "1048571          2   51        97         2  ...       2        2   \n",
       "1048572          2   55        97         2  ...       2        2   \n",
       "1048573          2   28        97         2  ...       2        2   \n",
       "1048574          2   52        97         2  ...       2        2   \n",
       "\n",
       "         HIPERTENSION  OTHER_DISEASE  CARDIOVASCULAR  OBESITY  RENAL_CHRONIC  \\\n",
       "1048555             2              2               2        2              2   \n",
       "1048556             2              2               2        2              2   \n",
       "1048557             1              2               2        2              2   \n",
       "1048558             2              2               2        2              2   \n",
       "1048559             2              2               2        2              2   \n",
       "1048560             2              2               2        2              2   \n",
       "1048561             1              1               1        2              2   \n",
       "1048562             2              2               2        2              2   \n",
       "1048563             2              2               2        2              2   \n",
       "1048564             2              2               2        2              2   \n",
       "1048565             2              2               2        2              2   \n",
       "1048566             2              2               2        2              2   \n",
       "1048567             2              2               2        1              2   \n",
       "1048568             2              2               2        2              2   \n",
       "1048569             2              2               2        2              2   \n",
       "1048570             2              2               2        2              2   \n",
       "1048571             1              2               2        2              2   \n",
       "1048572             2              2               2        2              2   \n",
       "1048573             2              2               2        2              2   \n",
       "1048574             2              2               2        2              2   \n",
       "\n",
       "         TOBACCO  CLASIFFICATION_FINAL  ICU  \n",
       "1048555        2                     7   97  \n",
       "1048556        2                     7   97  \n",
       "1048557        2                     7   97  \n",
       "1048558        2                     7   97  \n",
       "1048559        2                     7   97  \n",
       "1048560        2                     7   97  \n",
       "1048561        1                     7   97  \n",
       "1048562        2                     7   97  \n",
       "1048563        2                     7   97  \n",
       "1048564        1                     7   97  \n",
       "1048565        2                     7   97  \n",
       "1048566        2                     7   97  \n",
       "1048567        2                     7    2  \n",
       "1048568        2                     7   97  \n",
       "1048569        2                     7    2  \n",
       "1048570        2                     7   97  \n",
       "1048571        2                     7    2  \n",
       "1048572        2                     7   97  \n",
       "1048573        2                     7   97  \n",
       "1048574        2                     7   97  \n",
       "\n",
       "[20 rows x 21 columns]"
      ]
     },
     "execution_count": 4,
     "metadata": {},
     "output_type": "execute_result"
    }
   ],
   "source": [
    "## Looking at the bottom 20 rows\n",
    "\n",
    "covid.tail(20)"
   ]
  },
  {
   "cell_type": "code",
   "execution_count": 5,
   "metadata": {
    "collapsed": false
   },
   "outputs": [
    {
     "data": {
      "text/plain": [
       "(1048575, 21)"
      ]
     },
     "execution_count": 5,
     "metadata": {},
     "output_type": "execute_result"
    }
   ],
   "source": [
    "## Looking at the shape of the dataset\n",
    "\n",
    "covid.shape"
   ]
  },
  {
   "cell_type": "code",
   "execution_count": 6,
   "metadata": {
    "collapsed": false
   },
   "outputs": [
    {
     "data": {
      "text/plain": [
       "Index(['USMER', 'MEDICAL_UNIT', 'SEX', 'PATIENT_TYPE', 'DATE_DIED', 'INTUBED',\n",
       "       'PNEUMONIA', 'AGE', 'PREGNANT', 'DIABETES', 'COPD', 'ASTHMA', 'INMSUPR',\n",
       "       'HIPERTENSION', 'OTHER_DISEASE', 'CARDIOVASCULAR', 'OBESITY',\n",
       "       'RENAL_CHRONIC', 'TOBACCO', 'CLASIFFICATION_FINAL', 'ICU'],\n",
       "      dtype='object')"
      ]
     },
     "execution_count": 6,
     "metadata": {},
     "output_type": "execute_result"
    }
   ],
   "source": [
    "## Looking at the column names\n",
    "\n",
    "covid.columns"
   ]
  },
  {
   "cell_type": "code",
   "execution_count": 7,
   "metadata": {
    "collapsed": false
   },
   "outputs": [
    {
     "data": {
      "text/plain": [
       "USMER                    int64\n",
       "MEDICAL_UNIT             int64\n",
       "SEX                      int64\n",
       "PATIENT_TYPE             int64\n",
       "DATE_DIED               object\n",
       "INTUBED                  int64\n",
       "PNEUMONIA                int64\n",
       "AGE                      int64\n",
       "PREGNANT                 int64\n",
       "DIABETES                 int64\n",
       "COPD                     int64\n",
       "ASTHMA                   int64\n",
       "INMSUPR                  int64\n",
       "HIPERTENSION             int64\n",
       "OTHER_DISEASE            int64\n",
       "CARDIOVASCULAR           int64\n",
       "OBESITY                  int64\n",
       "RENAL_CHRONIC            int64\n",
       "TOBACCO                  int64\n",
       "CLASIFFICATION_FINAL     int64\n",
       "ICU                      int64\n",
       "dtype: object"
      ]
     },
     "execution_count": 7,
     "metadata": {},
     "output_type": "execute_result"
    }
   ],
   "source": [
    "## Looking at the datatypes\n",
    "\n",
    "covid.dtypes"
   ]
  },
  {
   "cell_type": "code",
   "execution_count": 8,
   "metadata": {
    "collapsed": false
   },
   "outputs": [
    {
     "data": {
      "text/html": [
       "<div>\n",
       "<style scoped>\n",
       "    .dataframe tbody tr th:only-of-type {\n",
       "        vertical-align: middle;\n",
       "    }\n",
       "\n",
       "    .dataframe tbody tr th {\n",
       "        vertical-align: top;\n",
       "    }\n",
       "\n",
       "    .dataframe thead th {\n",
       "        text-align: right;\n",
       "    }\n",
       "</style>\n",
       "<table border=\"1\" class=\"dataframe\">\n",
       "  <thead>\n",
       "    <tr style=\"text-align: right;\">\n",
       "      <th></th>\n",
       "      <th>USMER</th>\n",
       "      <th>MEDICAL_UNIT</th>\n",
       "      <th>SEX</th>\n",
       "      <th>PATIENT_TYPE</th>\n",
       "      <th>INTUBED</th>\n",
       "      <th>PNEUMONIA</th>\n",
       "      <th>AGE</th>\n",
       "      <th>PREGNANT</th>\n",
       "      <th>DIABETES</th>\n",
       "      <th>COPD</th>\n",
       "      <th>ASTHMA</th>\n",
       "      <th>INMSUPR</th>\n",
       "      <th>HIPERTENSION</th>\n",
       "      <th>OTHER_DISEASE</th>\n",
       "      <th>CARDIOVASCULAR</th>\n",
       "      <th>OBESITY</th>\n",
       "      <th>RENAL_CHRONIC</th>\n",
       "      <th>TOBACCO</th>\n",
       "      <th>CLASIFFICATION_FINAL</th>\n",
       "      <th>ICU</th>\n",
       "    </tr>\n",
       "  </thead>\n",
       "  <tbody>\n",
       "    <tr>\n",
       "      <th>count</th>\n",
       "      <td>1.048575e+06</td>\n",
       "      <td>1.048575e+06</td>\n",
       "      <td>1.048575e+06</td>\n",
       "      <td>1.048575e+06</td>\n",
       "      <td>1.048575e+06</td>\n",
       "      <td>1.048575e+06</td>\n",
       "      <td>1.048575e+06</td>\n",
       "      <td>1.048575e+06</td>\n",
       "      <td>1.048575e+06</td>\n",
       "      <td>1.048575e+06</td>\n",
       "      <td>1.048575e+06</td>\n",
       "      <td>1.048575e+06</td>\n",
       "      <td>1.048575e+06</td>\n",
       "      <td>1.048575e+06</td>\n",
       "      <td>1.048575e+06</td>\n",
       "      <td>1.048575e+06</td>\n",
       "      <td>1.048575e+06</td>\n",
       "      <td>1.048575e+06</td>\n",
       "      <td>1.048575e+06</td>\n",
       "      <td>1.048575e+06</td>\n",
       "    </tr>\n",
       "    <tr>\n",
       "      <th>mean</th>\n",
       "      <td>1.632194e+00</td>\n",
       "      <td>8.980565e+00</td>\n",
       "      <td>1.499259e+00</td>\n",
       "      <td>1.190765e+00</td>\n",
       "      <td>7.952288e+01</td>\n",
       "      <td>3.346831e+00</td>\n",
       "      <td>4.179410e+01</td>\n",
       "      <td>4.976558e+01</td>\n",
       "      <td>2.186404e+00</td>\n",
       "      <td>2.260569e+00</td>\n",
       "      <td>2.242626e+00</td>\n",
       "      <td>2.298132e+00</td>\n",
       "      <td>2.128989e+00</td>\n",
       "      <td>2.435143e+00</td>\n",
       "      <td>2.261810e+00</td>\n",
       "      <td>2.125176e+00</td>\n",
       "      <td>2.257180e+00</td>\n",
       "      <td>2.214333e+00</td>\n",
       "      <td>5.305653e+00</td>\n",
       "      <td>7.955397e+01</td>\n",
       "    </tr>\n",
       "    <tr>\n",
       "      <th>std</th>\n",
       "      <td>4.822084e-01</td>\n",
       "      <td>3.723278e+00</td>\n",
       "      <td>4.999997e-01</td>\n",
       "      <td>3.929041e-01</td>\n",
       "      <td>3.686889e+01</td>\n",
       "      <td>1.191288e+01</td>\n",
       "      <td>1.690739e+01</td>\n",
       "      <td>4.751073e+01</td>\n",
       "      <td>5.424242e+00</td>\n",
       "      <td>5.132258e+00</td>\n",
       "      <td>5.114089e+00</td>\n",
       "      <td>5.462843e+00</td>\n",
       "      <td>5.236397e+00</td>\n",
       "      <td>6.646676e+00</td>\n",
       "      <td>5.194850e+00</td>\n",
       "      <td>5.175445e+00</td>\n",
       "      <td>5.135354e+00</td>\n",
       "      <td>5.323097e+00</td>\n",
       "      <td>1.881165e+00</td>\n",
       "      <td>3.682307e+01</td>\n",
       "    </tr>\n",
       "    <tr>\n",
       "      <th>min</th>\n",
       "      <td>1.000000e+00</td>\n",
       "      <td>1.000000e+00</td>\n",
       "      <td>1.000000e+00</td>\n",
       "      <td>1.000000e+00</td>\n",
       "      <td>1.000000e+00</td>\n",
       "      <td>1.000000e+00</td>\n",
       "      <td>0.000000e+00</td>\n",
       "      <td>1.000000e+00</td>\n",
       "      <td>1.000000e+00</td>\n",
       "      <td>1.000000e+00</td>\n",
       "      <td>1.000000e+00</td>\n",
       "      <td>1.000000e+00</td>\n",
       "      <td>1.000000e+00</td>\n",
       "      <td>1.000000e+00</td>\n",
       "      <td>1.000000e+00</td>\n",
       "      <td>1.000000e+00</td>\n",
       "      <td>1.000000e+00</td>\n",
       "      <td>1.000000e+00</td>\n",
       "      <td>1.000000e+00</td>\n",
       "      <td>1.000000e+00</td>\n",
       "    </tr>\n",
       "    <tr>\n",
       "      <th>25%</th>\n",
       "      <td>1.000000e+00</td>\n",
       "      <td>4.000000e+00</td>\n",
       "      <td>1.000000e+00</td>\n",
       "      <td>1.000000e+00</td>\n",
       "      <td>9.700000e+01</td>\n",
       "      <td>2.000000e+00</td>\n",
       "      <td>3.000000e+01</td>\n",
       "      <td>2.000000e+00</td>\n",
       "      <td>2.000000e+00</td>\n",
       "      <td>2.000000e+00</td>\n",
       "      <td>2.000000e+00</td>\n",
       "      <td>2.000000e+00</td>\n",
       "      <td>2.000000e+00</td>\n",
       "      <td>2.000000e+00</td>\n",
       "      <td>2.000000e+00</td>\n",
       "      <td>2.000000e+00</td>\n",
       "      <td>2.000000e+00</td>\n",
       "      <td>2.000000e+00</td>\n",
       "      <td>3.000000e+00</td>\n",
       "      <td>9.700000e+01</td>\n",
       "    </tr>\n",
       "    <tr>\n",
       "      <th>50%</th>\n",
       "      <td>2.000000e+00</td>\n",
       "      <td>1.200000e+01</td>\n",
       "      <td>1.000000e+00</td>\n",
       "      <td>1.000000e+00</td>\n",
       "      <td>9.700000e+01</td>\n",
       "      <td>2.000000e+00</td>\n",
       "      <td>4.000000e+01</td>\n",
       "      <td>9.700000e+01</td>\n",
       "      <td>2.000000e+00</td>\n",
       "      <td>2.000000e+00</td>\n",
       "      <td>2.000000e+00</td>\n",
       "      <td>2.000000e+00</td>\n",
       "      <td>2.000000e+00</td>\n",
       "      <td>2.000000e+00</td>\n",
       "      <td>2.000000e+00</td>\n",
       "      <td>2.000000e+00</td>\n",
       "      <td>2.000000e+00</td>\n",
       "      <td>2.000000e+00</td>\n",
       "      <td>6.000000e+00</td>\n",
       "      <td>9.700000e+01</td>\n",
       "    </tr>\n",
       "    <tr>\n",
       "      <th>75%</th>\n",
       "      <td>2.000000e+00</td>\n",
       "      <td>1.200000e+01</td>\n",
       "      <td>2.000000e+00</td>\n",
       "      <td>1.000000e+00</td>\n",
       "      <td>9.700000e+01</td>\n",
       "      <td>2.000000e+00</td>\n",
       "      <td>5.300000e+01</td>\n",
       "      <td>9.700000e+01</td>\n",
       "      <td>2.000000e+00</td>\n",
       "      <td>2.000000e+00</td>\n",
       "      <td>2.000000e+00</td>\n",
       "      <td>2.000000e+00</td>\n",
       "      <td>2.000000e+00</td>\n",
       "      <td>2.000000e+00</td>\n",
       "      <td>2.000000e+00</td>\n",
       "      <td>2.000000e+00</td>\n",
       "      <td>2.000000e+00</td>\n",
       "      <td>2.000000e+00</td>\n",
       "      <td>7.000000e+00</td>\n",
       "      <td>9.700000e+01</td>\n",
       "    </tr>\n",
       "    <tr>\n",
       "      <th>max</th>\n",
       "      <td>2.000000e+00</td>\n",
       "      <td>1.300000e+01</td>\n",
       "      <td>2.000000e+00</td>\n",
       "      <td>2.000000e+00</td>\n",
       "      <td>9.900000e+01</td>\n",
       "      <td>9.900000e+01</td>\n",
       "      <td>1.210000e+02</td>\n",
       "      <td>9.800000e+01</td>\n",
       "      <td>9.800000e+01</td>\n",
       "      <td>9.800000e+01</td>\n",
       "      <td>9.800000e+01</td>\n",
       "      <td>9.800000e+01</td>\n",
       "      <td>9.800000e+01</td>\n",
       "      <td>9.800000e+01</td>\n",
       "      <td>9.800000e+01</td>\n",
       "      <td>9.800000e+01</td>\n",
       "      <td>9.800000e+01</td>\n",
       "      <td>9.800000e+01</td>\n",
       "      <td>7.000000e+00</td>\n",
       "      <td>9.900000e+01</td>\n",
       "    </tr>\n",
       "  </tbody>\n",
       "</table>\n",
       "</div>"
      ],
      "text/plain": [
       "              USMER  MEDICAL_UNIT           SEX  PATIENT_TYPE       INTUBED  \\\n",
       "count  1.048575e+06  1.048575e+06  1.048575e+06  1.048575e+06  1.048575e+06   \n",
       "mean   1.632194e+00  8.980565e+00  1.499259e+00  1.190765e+00  7.952288e+01   \n",
       "std    4.822084e-01  3.723278e+00  4.999997e-01  3.929041e-01  3.686889e+01   \n",
       "min    1.000000e+00  1.000000e+00  1.000000e+00  1.000000e+00  1.000000e+00   \n",
       "25%    1.000000e+00  4.000000e+00  1.000000e+00  1.000000e+00  9.700000e+01   \n",
       "50%    2.000000e+00  1.200000e+01  1.000000e+00  1.000000e+00  9.700000e+01   \n",
       "75%    2.000000e+00  1.200000e+01  2.000000e+00  1.000000e+00  9.700000e+01   \n",
       "max    2.000000e+00  1.300000e+01  2.000000e+00  2.000000e+00  9.900000e+01   \n",
       "\n",
       "          PNEUMONIA           AGE      PREGNANT      DIABETES          COPD  \\\n",
       "count  1.048575e+06  1.048575e+06  1.048575e+06  1.048575e+06  1.048575e+06   \n",
       "mean   3.346831e+00  4.179410e+01  4.976558e+01  2.186404e+00  2.260569e+00   \n",
       "std    1.191288e+01  1.690739e+01  4.751073e+01  5.424242e+00  5.132258e+00   \n",
       "min    1.000000e+00  0.000000e+00  1.000000e+00  1.000000e+00  1.000000e+00   \n",
       "25%    2.000000e+00  3.000000e+01  2.000000e+00  2.000000e+00  2.000000e+00   \n",
       "50%    2.000000e+00  4.000000e+01  9.700000e+01  2.000000e+00  2.000000e+00   \n",
       "75%    2.000000e+00  5.300000e+01  9.700000e+01  2.000000e+00  2.000000e+00   \n",
       "max    9.900000e+01  1.210000e+02  9.800000e+01  9.800000e+01  9.800000e+01   \n",
       "\n",
       "             ASTHMA       INMSUPR  HIPERTENSION  OTHER_DISEASE  \\\n",
       "count  1.048575e+06  1.048575e+06  1.048575e+06   1.048575e+06   \n",
       "mean   2.242626e+00  2.298132e+00  2.128989e+00   2.435143e+00   \n",
       "std    5.114089e+00  5.462843e+00  5.236397e+00   6.646676e+00   \n",
       "min    1.000000e+00  1.000000e+00  1.000000e+00   1.000000e+00   \n",
       "25%    2.000000e+00  2.000000e+00  2.000000e+00   2.000000e+00   \n",
       "50%    2.000000e+00  2.000000e+00  2.000000e+00   2.000000e+00   \n",
       "75%    2.000000e+00  2.000000e+00  2.000000e+00   2.000000e+00   \n",
       "max    9.800000e+01  9.800000e+01  9.800000e+01   9.800000e+01   \n",
       "\n",
       "       CARDIOVASCULAR       OBESITY  RENAL_CHRONIC       TOBACCO  \\\n",
       "count    1.048575e+06  1.048575e+06   1.048575e+06  1.048575e+06   \n",
       "mean     2.261810e+00  2.125176e+00   2.257180e+00  2.214333e+00   \n",
       "std      5.194850e+00  5.175445e+00   5.135354e+00  5.323097e+00   \n",
       "min      1.000000e+00  1.000000e+00   1.000000e+00  1.000000e+00   \n",
       "25%      2.000000e+00  2.000000e+00   2.000000e+00  2.000000e+00   \n",
       "50%      2.000000e+00  2.000000e+00   2.000000e+00  2.000000e+00   \n",
       "75%      2.000000e+00  2.000000e+00   2.000000e+00  2.000000e+00   \n",
       "max      9.800000e+01  9.800000e+01   9.800000e+01  9.800000e+01   \n",
       "\n",
       "       CLASIFFICATION_FINAL           ICU  \n",
       "count          1.048575e+06  1.048575e+06  \n",
       "mean           5.305653e+00  7.955397e+01  \n",
       "std            1.881165e+00  3.682307e+01  \n",
       "min            1.000000e+00  1.000000e+00  \n",
       "25%            3.000000e+00  9.700000e+01  \n",
       "50%            6.000000e+00  9.700000e+01  \n",
       "75%            7.000000e+00  9.700000e+01  \n",
       "max            7.000000e+00  9.900000e+01  "
      ]
     },
     "execution_count": 8,
     "metadata": {},
     "output_type": "execute_result"
    }
   ],
   "source": [
    "## Looking at the stats of the data\n",
    "\n",
    "covid.describe()"
   ]
  },
  {
   "cell_type": "code",
   "execution_count": 9,
   "metadata": {
    "collapsed": false
   },
   "outputs": [
    {
     "name": "stdout",
     "output_type": "stream",
     "text": [
      "<class 'pandas.core.frame.DataFrame'>\n",
      "RangeIndex: 1048575 entries, 0 to 1048574\n",
      "Data columns (total 21 columns):\n",
      " #   Column                Non-Null Count    Dtype \n",
      "---  ------                --------------    ----- \n",
      " 0   USMER                 1048575 non-null  int64 \n",
      " 1   MEDICAL_UNIT          1048575 non-null  int64 \n",
      " 2   SEX                   1048575 non-null  int64 \n",
      " 3   PATIENT_TYPE          1048575 non-null  int64 \n",
      " 4   DATE_DIED             1048575 non-null  object\n",
      " 5   INTUBED               1048575 non-null  int64 \n",
      " 6   PNEUMONIA             1048575 non-null  int64 \n",
      " 7   AGE                   1048575 non-null  int64 \n",
      " 8   PREGNANT              1048575 non-null  int64 \n",
      " 9   DIABETES              1048575 non-null  int64 \n",
      " 10  COPD                  1048575 non-null  int64 \n",
      " 11  ASTHMA                1048575 non-null  int64 \n",
      " 12  INMSUPR               1048575 non-null  int64 \n",
      " 13  HIPERTENSION          1048575 non-null  int64 \n",
      " 14  OTHER_DISEASE         1048575 non-null  int64 \n",
      " 15  CARDIOVASCULAR        1048575 non-null  int64 \n",
      " 16  OBESITY               1048575 non-null  int64 \n",
      " 17  RENAL_CHRONIC         1048575 non-null  int64 \n",
      " 18  TOBACCO               1048575 non-null  int64 \n",
      " 19  CLASIFFICATION_FINAL  1048575 non-null  int64 \n",
      " 20  ICU                   1048575 non-null  int64 \n",
      "dtypes: int64(20), object(1)\n",
      "memory usage: 168.0+ MB\n"
     ]
    }
   ],
   "source": [
    "## Checking nulls and datatypes\n",
    "\n",
    "covid.info(show_counts=True)"
   ]
  },
  {
   "cell_type": "code",
   "execution_count": 10,
   "metadata": {
    "collapsed": false
   },
   "outputs": [
    {
     "data": {
      "text/plain": [
       "USMER                   0\n",
       "MEDICAL_UNIT            0\n",
       "SEX                     0\n",
       "PATIENT_TYPE            0\n",
       "DATE_DIED               0\n",
       "INTUBED                 0\n",
       "PNEUMONIA               0\n",
       "AGE                     0\n",
       "PREGNANT                0\n",
       "DIABETES                0\n",
       "COPD                    0\n",
       "ASTHMA                  0\n",
       "INMSUPR                 0\n",
       "HIPERTENSION            0\n",
       "OTHER_DISEASE           0\n",
       "CARDIOVASCULAR          0\n",
       "OBESITY                 0\n",
       "RENAL_CHRONIC           0\n",
       "TOBACCO                 0\n",
       "CLASIFFICATION_FINAL    0\n",
       "ICU                     0\n",
       "dtype: int64"
      ]
     },
     "execution_count": 10,
     "metadata": {},
     "output_type": "execute_result"
    }
   ],
   "source": [
    "## Checking nulls\n",
    "\n",
    "covid.isnull().sum()\n",
    "\n",
    "## I know from kaggle that null values are shown as 97 or 98, so they do not show up here"
   ]
  },
  {
   "cell_type": "code",
   "execution_count": 11,
   "metadata": {
    "collapsed": false
   },
   "outputs": [
    {
     "data": {
      "text/plain": [
       "[2    63.22\n",
       " 1    36.78\n",
       " Name: USMER, dtype: float64,\n",
       " 12    57.51\n",
       " 4     29.98\n",
       " 6      3.87\n",
       " 9      3.64\n",
       " 3      1.83\n",
       " 8      0.99\n",
       " 10     0.75\n",
       " 5      0.69\n",
       " 11     0.53\n",
       " 13     0.09\n",
       " 7      0.08\n",
       " 2      0.02\n",
       " 1      0.01\n",
       " Name: MEDICAL_UNIT, dtype: float64,\n",
       " 1    50.07\n",
       " 2    49.93\n",
       " Name: SEX, dtype: float64,\n",
       " 1    80.92\n",
       " 2    19.08\n",
       " Name: PATIENT_TYPE, dtype: float64,\n",
       " 9999-99-99    92.66\n",
       " 06/07/2020     0.10\n",
       " 07/07/2020     0.09\n",
       " 13/07/2020     0.09\n",
       " 16/06/2020     0.09\n",
       "               ...  \n",
       " 24/11/2020     0.00\n",
       " 17/12/2020     0.00\n",
       " 08/12/2020     0.00\n",
       " 16/03/2021     0.00\n",
       " 22/04/2021     0.00\n",
       " Name: DATE_DIED, Length: 401, dtype: float64,\n",
       " 97    80.92\n",
       " 2     15.17\n",
       " 1      3.21\n",
       " 99     0.70\n",
       " Name: INTUBED, dtype: float64,\n",
       " 2     85.12\n",
       " 1     13.36\n",
       " 99     1.53\n",
       " Name: PNEUMONIA, dtype: float64,\n",
       " 30     2.58\n",
       " 31     2.47\n",
       " 28     2.41\n",
       " 29     2.40\n",
       " 34     2.37\n",
       "        ... \n",
       " 114    0.00\n",
       " 116    0.00\n",
       " 111    0.00\n",
       " 121    0.00\n",
       " 113    0.00\n",
       " Name: AGE, Length: 121, dtype: float64,\n",
       " 97    49.93\n",
       " 2     48.94\n",
       " 1      0.78\n",
       " 98     0.36\n",
       " Name: PREGNANT, dtype: float64,\n",
       " 2     87.76\n",
       " 1     11.92\n",
       " 98     0.32\n",
       " Name: DIABETES, dtype: float64,\n",
       " 2     98.28\n",
       " 1      1.44\n",
       " 98     0.29\n",
       " Name: COPD, dtype: float64,\n",
       " 2     96.70\n",
       " 1      3.01\n",
       " 98     0.28\n",
       " Name: ASTHMA, dtype: float64,\n",
       " 2     98.32\n",
       " 1      1.35\n",
       " 98     0.32\n",
       " Name: INMSUPR, dtype: float64,\n",
       " 2     84.18\n",
       " 1     15.52\n",
       " 98     0.30\n",
       " Name: HIPERTENSION, dtype: float64,\n",
       " 2     96.84\n",
       " 1      2.67\n",
       " 98     0.48\n",
       " Name: OTHER_DISEASE, dtype: float64,\n",
       " 2     97.73\n",
       " 1      1.98\n",
       " 98     0.29\n",
       " Name: CARDIOVASCULAR, dtype: float64,\n",
       " 2     84.47\n",
       " 1     15.24\n",
       " 98     0.29\n",
       " Name: OBESITY, dtype: float64,\n",
       " 2     97.91\n",
       " 1      1.80\n",
       " 98     0.29\n",
       " Name: RENAL_CHRONIC, dtype: float64,\n",
       " 2     91.65\n",
       " 1      8.05\n",
       " 98     0.31\n",
       " Name: TOBACCO, dtype: float64,\n",
       " 7    47.61\n",
       " 3    36.39\n",
       " 6    12.22\n",
       " 5     2.49\n",
       " 1     0.82\n",
       " 4     0.30\n",
       " 2     0.18\n",
       " Name: CLASIFFICATION_FINAL, dtype: float64,\n",
       " 97    80.92\n",
       " 2     16.75\n",
       " 1      1.61\n",
       " 99     0.71\n",
       " Name: ICU, dtype: float64]"
      ]
     },
     "execution_count": 11,
     "metadata": {},
     "output_type": "execute_result"
    }
   ],
   "source": [
    "## look at the % of each value in each category\n",
    "\n",
    "def percentage (category):\n",
    "    return covid[category].value_counts(normalize=True).mul(100).round(2)\n",
    "\n",
    "plotlist = ['USMER', 'MEDICAL_UNIT', 'SEX', 'PATIENT_TYPE', 'DATE_DIED', 'INTUBED',\n",
    "            'PNEUMONIA', 'AGE', 'PREGNANT', 'DIABETES', 'COPD', 'ASTHMA', 'INMSUPR',\n",
    "            'HIPERTENSION', 'OTHER_DISEASE', 'CARDIOVASCULAR', 'OBESITY',\n",
    "            'RENAL_CHRONIC', 'TOBACCO', 'CLASIFFICATION_FINAL', 'ICU']\n",
    "\n",
    "[percentage(category) for category in plotlist]"
   ]
  },
  {
   "cell_type": "code",
   "execution_count": 12,
   "metadata": {
    "collapsed": false
   },
   "outputs": [],
   "source": [
    "## before we do anything to alter the original dataset we want to create a copy\n",
    "\n",
    "df = covid.copy()"
   ]
  },
  {
   "cell_type": "code",
   "execution_count": null,
   "metadata": {
    "collapsed": false
   },
   "outputs": [],
   "source": []
  },
  {
   "cell_type": "markdown",
   "metadata": {
    "collapsed": false
   },
   "source": [
    "2. Add a new column that determines whether the patient died or recovered"
   ]
  },
  {
   "cell_type": "code",
   "execution_count": 13,
   "metadata": {
    "collapsed": false
   },
   "outputs": [
    {
     "data": {
      "text/html": [
       "<div>\n",
       "<style scoped>\n",
       "    .dataframe tbody tr th:only-of-type {\n",
       "        vertical-align: middle;\n",
       "    }\n",
       "\n",
       "    .dataframe tbody tr th {\n",
       "        vertical-align: top;\n",
       "    }\n",
       "\n",
       "    .dataframe thead th {\n",
       "        text-align: right;\n",
       "    }\n",
       "</style>\n",
       "<table border=\"1\" class=\"dataframe\">\n",
       "  <thead>\n",
       "    <tr style=\"text-align: right;\">\n",
       "      <th></th>\n",
       "      <th>died</th>\n",
       "    </tr>\n",
       "    <tr>\n",
       "      <th>died</th>\n",
       "      <th></th>\n",
       "    </tr>\n",
       "  </thead>\n",
       "  <tbody>\n",
       "    <tr>\n",
       "      <th>False</th>\n",
       "      <td>971633</td>\n",
       "    </tr>\n",
       "    <tr>\n",
       "      <th>True</th>\n",
       "      <td>76942</td>\n",
       "    </tr>\n",
       "  </tbody>\n",
       "</table>\n",
       "</div>"
      ],
      "text/plain": [
       "         died\n",
       "died         \n",
       "False  971633\n",
       "True    76942"
      ]
     },
     "execution_count": 13,
     "metadata": {},
     "output_type": "execute_result"
    }
   ],
   "source": [
    "## adding a new column that says whether a patient died or not\n",
    "## '9999-99-99' indicates a patient surviving so when there is a date it means the patient died\n",
    "\n",
    "df['died'] = df['DATE_DIED'] != '9999-99-99'\n",
    "\n",
    "df.groupby(['died'])[['died']].count()"
   ]
  },
  {
   "cell_type": "code",
   "execution_count": 14,
   "metadata": {
    "collapsed": false
   },
   "outputs": [
    {
     "data": {
      "text/html": [
       "<div>\n",
       "<style scoped>\n",
       "    .dataframe tbody tr th:only-of-type {\n",
       "        vertical-align: middle;\n",
       "    }\n",
       "\n",
       "    .dataframe tbody tr th {\n",
       "        vertical-align: top;\n",
       "    }\n",
       "\n",
       "    .dataframe thead th {\n",
       "        text-align: right;\n",
       "    }\n",
       "</style>\n",
       "<table border=\"1\" class=\"dataframe\">\n",
       "  <thead>\n",
       "    <tr style=\"text-align: right;\">\n",
       "      <th></th>\n",
       "      <th>died</th>\n",
       "    </tr>\n",
       "    <tr>\n",
       "      <th>died</th>\n",
       "      <th></th>\n",
       "    </tr>\n",
       "  </thead>\n",
       "  <tbody>\n",
       "    <tr>\n",
       "      <th>0</th>\n",
       "      <td>971633</td>\n",
       "    </tr>\n",
       "    <tr>\n",
       "      <th>1</th>\n",
       "      <td>76942</td>\n",
       "    </tr>\n",
       "  </tbody>\n",
       "</table>\n",
       "</div>"
      ],
      "text/plain": [
       "        died\n",
       "died        \n",
       "0     971633\n",
       "1      76942"
      ]
     },
     "execution_count": 14,
     "metadata": {},
     "output_type": "execute_result"
    }
   ],
   "source": [
    "## we want to change True and False to numerical values\n",
    "## 1 = yes died, 0 = no recovered\n",
    "\n",
    "df.replace({False: 0, True: 1}, inplace=True)\n",
    "\n",
    "df.groupby(['died'])[['died']].count()"
   ]
  },
  {
   "cell_type": "code",
   "execution_count": 15,
   "metadata": {
    "collapsed": false
   },
   "outputs": [
    {
     "data": {
      "text/plain": [
       "recovered     971633\n",
       "06/07/2020      1000\n",
       "07/07/2020       996\n",
       "13/07/2020       990\n",
       "16/06/2020       979\n",
       "               ...  \n",
       "24/11/2020         1\n",
       "17/12/2020         1\n",
       "08/12/2020         1\n",
       "16/03/2021         1\n",
       "22/04/2021         1\n",
       "Name: DATE_DIED, Length: 401, dtype: int64"
      ]
     },
     "execution_count": 15,
     "metadata": {},
     "output_type": "execute_result"
    }
   ],
   "source": [
    "## we also want to replace '9999-99-99' with 'recovered'\n",
    "\n",
    "df['DATE_DIED'].replace({'9999-99-99' : 'recovered'}, inplace=True)\n",
    "\n",
    "df['DATE_DIED'].value_counts()"
   ]
  },
  {
   "cell_type": "code",
   "execution_count": 16,
   "metadata": {
    "collapsed": false
   },
   "outputs": [],
   "source": [
    "## export the dataframe to excel so it can be used in tableau\n",
    "\n",
    "#df.to_excel('/Users/katiejones/Documents/Digital Futures/DATASETS/covid.xlsx', index=True)"
   ]
  },
  {
   "cell_type": "markdown",
   "metadata": {
    "collapsed": false
   },
   "source": [
    "3. Raw visualisations"
   ]
  },
  {
   "cell_type": "code",
   "execution_count": 17,
   "metadata": {
    "collapsed": false
   },
   "outputs": [],
   "source": [
    "## Function to plot the proportions of each category that died and recovered\n",
    "## Died = 1 and recovered = 0\n",
    "\n",
    "def graph(category):\n",
    "    plt.figure(figsize = (5,3))\n",
    "    ax = sns.countplot(x=df[category], hue=df['died'], palette = 'coolwarm')\n",
    "    plt.title(f'Number of Deaths and Recoveries by {category}')\n",
    "\n",
    "    plt.xticks(\n",
    "        horizontalalignment='right',\n",
    "        fontweight='light',\n",
    "        fontsize='large', wrap=True\n",
    "    )\n",
    "    plt.show()\n",
    "    return ax"
   ]
  },
  {
   "cell_type": "code",
   "execution_count": 18,
   "metadata": {
    "collapsed": false
   },
   "outputs": [
    {
     "data": {
      "image/png": "[encoded data removed]",
      "text/plain": [
       "<Figure size 500x300 with 1 Axes>"
      ]
     },
     "metadata": {},
     "output_type": "display_data"
    },
    {
     "data": {
      "image/png": "[encoded data removed]",
      "text/plain": [
       "<Figure size 500x300 with 1 Axes>"
      ]
     },
     "metadata": {},
     "output_type": "display_data"
    },
    {
     "data": {
      "image/png": "[encoded data removed]",
      "text/plain": [
       "<Figure size 500x300 with 1 Axes>"
      ]
     },
     "metadata": {},
     "output_type": "display_data"
    },
    {
     "data": {
      "image/png": "[encoded data removed]",
      "text/plain": [
       "<Figure size 500x300 with 1 Axes>"
      ]
     },
     "metadata": {},
     "output_type": "display_data"
    },
    {
     "data": {
      "image/png": "[encoded data removed]",
      "text/plain": [
       "<Figure size 500x300 with 1 Axes>"
      ]
     },
     "metadata": {},
     "output_type": "display_data"
    },
    {
     "data": {
      "image/png": "[encoded data removed]",
      "text/plain": [
       "<Figure size 500x300 with 1 Axes>"
      ]
     },
     "metadata": {},
     "output_type": "display_data"
    },
    {
     "data": {
      "image/png": "[encoded data removed]",
      "text/plain": [
       "<Figure size 500x300 with 1 Axes>"
      ]
     },
     "metadata": {},
     "output_type": "display_data"
    },
    {
     "data": {
      "image/png": "[encoded data removed]",
      "text/plain": [
       "<Figure size 500x300 with 1 Axes>"
      ]
     },
     "metadata": {},
     "output_type": "display_data"
    },
    {
     "data": {
      "image/png": "[encoded data removed]",
      "text/plain": [
       "<Figure size 500x300 with 1 Axes>"
      ]
     },
     "metadata": {},
     "output_type": "display_data"
    },
    {
     "data": {
      "image/png": "[encoded data removed]",
      "text/plain": [
       "<Figure size 500x300 with 1 Axes>"
      ]
     },
     "metadata": {},
     "output_type": "display_data"
    },
    {
     "data": {
      "image/png": "[encoded data removed]",
      "text/plain": [
       "<Figure size 500x300 with 1 Axes>"
      ]
     },
     "metadata": {},
     "output_type": "display_data"
    },
    {
     "data": {
      "image/png": "[encoded data removed]",
      "text/plain": [
       "<Figure size 500x300 with 1 Axes>"
      ]
     },
     "metadata": {},
     "output_type": "display_data"
    },
    {
     "data": {
      "image/png": "[encoded data removed]",
      "text/plain": [
       "<Figure size 500x300 with 1 Axes>"
      ]
     },
     "metadata": {},
     "output_type": "display_data"
    },
    {
     "data": {
      "image/png": "[encoded data removed]",
      "text/plain": [
       "<Figure size 500x300 with 1 Axes>"
      ]
     },
     "metadata": {},
     "output_type": "display_data"
    },
    {
     "data": {
      "image/png": "[encoded data removed]",
      "text/plain": [
       "<Figure size 500x300 with 1 Axes>"
      ]
     },
     "metadata": {},
     "output_type": "display_data"
    },
    {
     "data": {
      "image/png": "[encoded data removed]",
      "text/plain": [
       "<Figure size 500x300 with 1 Axes>"
      ]
     },
     "metadata": {},
     "output_type": "display_data"
    },
    {
     "data": {
      "image/png": "[encoded data removed]",
      "text/plain": [
       "<Figure size 500x300 with 1 Axes>"
      ]
     },
     "metadata": {},
     "output_type": "display_data"
    },
    {
     "data": {
      "image/png": "[encoded data removed]",
      "text/plain": [
       "<Figure size 500x300 with 1 Axes>"
      ]
     },
     "metadata": {},
     "output_type": "display_data"
    },
    {
     "data": {
      "text/plain": [
       "[<AxesSubplot:title={'center':'Number of Deaths and Recoveries by SEX'}, xlabel='SEX', ylabel='count'>,\n",
       " <AxesSubplot:title={'center':'Number of Deaths and Recoveries by AGE'}, xlabel='AGE', ylabel='count'>,\n",
       " <AxesSubplot:title={'center':'Number of Deaths and Recoveries by PREGNANT'}, xlabel='PREGNANT', ylabel='count'>,\n",
       " <AxesSubplot:title={'center':'Number of Deaths and Recoveries by DIABETES'}, xlabel='DIABETES', ylabel='count'>,\n",
       " <AxesSubplot:title={'center':'Number of Deaths and Recoveries by COPD'}, xlabel='COPD', ylabel='count'>,\n",
       " <AxesSubplot:title={'center':'Number of Deaths and Recoveries by ASTHMA'}, xlabel='ASTHMA', ylabel='count'>,\n",
       " <AxesSubplot:title={'center':'Number of Deaths and Recoveries by INMSUPR'}, xlabel='INMSUPR', ylabel='count'>,\n",
       " <AxesSubplot:title={'center':'Number of Deaths and Recoveries by HIPERTENSION'}, xlabel='HIPERTENSION', ylabel='count'>,\n",
       " <AxesSubplot:title={'center':'Number of Deaths and Recoveries by OTHER_DISEASE'}, xlabel='OTHER_DISEASE', ylabel='count'>,\n",
       " <AxesSubplot:title={'center':'Number of Deaths and Recoveries by CARDIOVASCULAR'}, xlabel='CARDIOVASCULAR', ylabel='count'>,\n",
       " <AxesSubplot:title={'center':'Number of Deaths and Recoveries by OBESITY'}, xlabel='OBESITY', ylabel='count'>,\n",
       " <AxesSubplot:title={'center':'Number of Deaths and Recoveries by RENAL_CHRONIC'}, xlabel='RENAL_CHRONIC', ylabel='count'>,\n",
       " <AxesSubplot:title={'center':'Number of Deaths and Recoveries by TOBACCO'}, xlabel='TOBACCO', ylabel='count'>,\n",
       " <AxesSubplot:title={'center':'Number of Deaths and Recoveries by USMER'}, xlabel='USMER', ylabel='count'>,\n",
       " <AxesSubplot:title={'center':'Number of Deaths and Recoveries by PATIENT_TYPE'}, xlabel='PATIENT_TYPE', ylabel='count'>,\n",
       " <AxesSubplot:title={'center':'Number of Deaths and Recoveries by INTUBED'}, xlabel='INTUBED', ylabel='count'>,\n",
       " <AxesSubplot:title={'center':'Number of Deaths and Recoveries by PNEUMONIA'}, xlabel='PNEUMONIA', ylabel='count'>,\n",
       " <AxesSubplot:title={'center':'Number of Deaths and Recoveries by ICU'}, xlabel='ICU', ylabel='count'>]"
      ]
     },
     "execution_count": 18,
     "metadata": {},
     "output_type": "execute_result"
    }
   ],
   "source": [
    "plotlist = ['SEX', 'AGE', 'PREGNANT', 'DIABETES', 'COPD', 'ASTHMA', 'INMSUPR', 'HIPERTENSION', 'OTHER_DISEASE',\n",
    "            'CARDIOVASCULAR', 'OBESITY', 'RENAL_CHRONIC', 'TOBACCO', 'USMER', 'PATIENT_TYPE', 'INTUBED', 'PNEUMONIA',\n",
    "            'ICU']\n",
    "\n",
    "[graph(i) for i in plotlist]"
   ]
  },
  {
   "cell_type": "markdown",
   "metadata": {
    "collapsed": false
   },
   "source": [
    "4. Create a new dataset just containing patients that died"
   ]
  },
  {
   "cell_type": "code",
   "execution_count": 19,
   "metadata": {
    "collapsed": false
   },
   "outputs": [
    {
     "data": {
      "text/html": [
       "<div>\n",
       "<style scoped>\n",
       "    .dataframe tbody tr th:only-of-type {\n",
       "        vertical-align: middle;\n",
       "    }\n",
       "\n",
       "    .dataframe tbody tr th {\n",
       "        vertical-align: top;\n",
       "    }\n",
       "\n",
       "    .dataframe thead th {\n",
       "        text-align: right;\n",
       "    }\n",
       "</style>\n",
       "<table border=\"1\" class=\"dataframe\">\n",
       "  <thead>\n",
       "    <tr style=\"text-align: right;\">\n",
       "      <th></th>\n",
       "      <th>USMER</th>\n",
       "      <th>MEDICAL_UNIT</th>\n",
       "      <th>SEX</th>\n",
       "      <th>PATIENT_TYPE</th>\n",
       "      <th>DATE_DIED</th>\n",
       "      <th>INTUBED</th>\n",
       "      <th>PNEUMONIA</th>\n",
       "      <th>AGE</th>\n",
       "      <th>PREGNANT</th>\n",
       "      <th>DIABETES</th>\n",
       "      <th>...</th>\n",
       "      <th>INMSUPR</th>\n",
       "      <th>HIPERTENSION</th>\n",
       "      <th>OTHER_DISEASE</th>\n",
       "      <th>CARDIOVASCULAR</th>\n",
       "      <th>OBESITY</th>\n",
       "      <th>RENAL_CHRONIC</th>\n",
       "      <th>TOBACCO</th>\n",
       "      <th>CLASIFFICATION_FINAL</th>\n",
       "      <th>ICU</th>\n",
       "      <th>died</th>\n",
       "    </tr>\n",
       "  </thead>\n",
       "  <tbody>\n",
       "    <tr>\n",
       "      <th>0</th>\n",
       "      <td>2</td>\n",
       "      <td>1</td>\n",
       "      <td>1</td>\n",
       "      <td>1</td>\n",
       "      <td>03/05/2020</td>\n",
       "      <td>97</td>\n",
       "      <td>1</td>\n",
       "      <td>65</td>\n",
       "      <td>2</td>\n",
       "      <td>2</td>\n",
       "      <td>...</td>\n",
       "      <td>2</td>\n",
       "      <td>1</td>\n",
       "      <td>2</td>\n",
       "      <td>2</td>\n",
       "      <td>2</td>\n",
       "      <td>2</td>\n",
       "      <td>2</td>\n",
       "      <td>3</td>\n",
       "      <td>97</td>\n",
       "      <td>1</td>\n",
       "    </tr>\n",
       "    <tr>\n",
       "      <th>1</th>\n",
       "      <td>2</td>\n",
       "      <td>1</td>\n",
       "      <td>2</td>\n",
       "      <td>1</td>\n",
       "      <td>03/06/2020</td>\n",
       "      <td>97</td>\n",
       "      <td>1</td>\n",
       "      <td>72</td>\n",
       "      <td>97</td>\n",
       "      <td>2</td>\n",
       "      <td>...</td>\n",
       "      <td>2</td>\n",
       "      <td>1</td>\n",
       "      <td>2</td>\n",
       "      <td>2</td>\n",
       "      <td>1</td>\n",
       "      <td>1</td>\n",
       "      <td>2</td>\n",
       "      <td>5</td>\n",
       "      <td>97</td>\n",
       "      <td>1</td>\n",
       "    </tr>\n",
       "    <tr>\n",
       "      <th>2</th>\n",
       "      <td>2</td>\n",
       "      <td>1</td>\n",
       "      <td>2</td>\n",
       "      <td>2</td>\n",
       "      <td>09/06/2020</td>\n",
       "      <td>1</td>\n",
       "      <td>2</td>\n",
       "      <td>55</td>\n",
       "      <td>97</td>\n",
       "      <td>1</td>\n",
       "      <td>...</td>\n",
       "      <td>2</td>\n",
       "      <td>2</td>\n",
       "      <td>2</td>\n",
       "      <td>2</td>\n",
       "      <td>2</td>\n",
       "      <td>2</td>\n",
       "      <td>2</td>\n",
       "      <td>3</td>\n",
       "      <td>2</td>\n",
       "      <td>1</td>\n",
       "    </tr>\n",
       "    <tr>\n",
       "      <th>3</th>\n",
       "      <td>2</td>\n",
       "      <td>1</td>\n",
       "      <td>1</td>\n",
       "      <td>1</td>\n",
       "      <td>12/06/2020</td>\n",
       "      <td>97</td>\n",
       "      <td>2</td>\n",
       "      <td>53</td>\n",
       "      <td>2</td>\n",
       "      <td>2</td>\n",
       "      <td>...</td>\n",
       "      <td>2</td>\n",
       "      <td>2</td>\n",
       "      <td>2</td>\n",
       "      <td>2</td>\n",
       "      <td>2</td>\n",
       "      <td>2</td>\n",
       "      <td>2</td>\n",
       "      <td>7</td>\n",
       "      <td>97</td>\n",
       "      <td>1</td>\n",
       "    </tr>\n",
       "    <tr>\n",
       "      <th>4</th>\n",
       "      <td>2</td>\n",
       "      <td>1</td>\n",
       "      <td>2</td>\n",
       "      <td>1</td>\n",
       "      <td>21/06/2020</td>\n",
       "      <td>97</td>\n",
       "      <td>2</td>\n",
       "      <td>68</td>\n",
       "      <td>97</td>\n",
       "      <td>1</td>\n",
       "      <td>...</td>\n",
       "      <td>2</td>\n",
       "      <td>1</td>\n",
       "      <td>2</td>\n",
       "      <td>2</td>\n",
       "      <td>2</td>\n",
       "      <td>2</td>\n",
       "      <td>2</td>\n",
       "      <td>3</td>\n",
       "      <td>97</td>\n",
       "      <td>1</td>\n",
       "    </tr>\n",
       "    <tr>\n",
       "      <th>...</th>\n",
       "      <td>...</td>\n",
       "      <td>...</td>\n",
       "      <td>...</td>\n",
       "      <td>...</td>\n",
       "      <td>...</td>\n",
       "      <td>...</td>\n",
       "      <td>...</td>\n",
       "      <td>...</td>\n",
       "      <td>...</td>\n",
       "      <td>...</td>\n",
       "      <td>...</td>\n",
       "      <td>...</td>\n",
       "      <td>...</td>\n",
       "      <td>...</td>\n",
       "      <td>...</td>\n",
       "      <td>...</td>\n",
       "      <td>...</td>\n",
       "      <td>...</td>\n",
       "      <td>...</td>\n",
       "      <td>...</td>\n",
       "      <td>...</td>\n",
       "    </tr>\n",
       "    <tr>\n",
       "      <th>1047635</th>\n",
       "      <td>1</td>\n",
       "      <td>13</td>\n",
       "      <td>2</td>\n",
       "      <td>2</td>\n",
       "      <td>18/07/2020</td>\n",
       "      <td>1</td>\n",
       "      <td>1</td>\n",
       "      <td>73</td>\n",
       "      <td>97</td>\n",
       "      <td>2</td>\n",
       "      <td>...</td>\n",
       "      <td>2</td>\n",
       "      <td>1</td>\n",
       "      <td>2</td>\n",
       "      <td>2</td>\n",
       "      <td>1</td>\n",
       "      <td>2</td>\n",
       "      <td>2</td>\n",
       "      <td>3</td>\n",
       "      <td>2</td>\n",
       "      <td>1</td>\n",
       "    </tr>\n",
       "    <tr>\n",
       "      <th>1047636</th>\n",
       "      <td>1</td>\n",
       "      <td>13</td>\n",
       "      <td>2</td>\n",
       "      <td>1</td>\n",
       "      <td>26/07/2020</td>\n",
       "      <td>97</td>\n",
       "      <td>1</td>\n",
       "      <td>82</td>\n",
       "      <td>97</td>\n",
       "      <td>2</td>\n",
       "      <td>...</td>\n",
       "      <td>2</td>\n",
       "      <td>1</td>\n",
       "      <td>2</td>\n",
       "      <td>2</td>\n",
       "      <td>2</td>\n",
       "      <td>2</td>\n",
       "      <td>2</td>\n",
       "      <td>3</td>\n",
       "      <td>97</td>\n",
       "      <td>1</td>\n",
       "    </tr>\n",
       "    <tr>\n",
       "      <th>1047637</th>\n",
       "      <td>1</td>\n",
       "      <td>13</td>\n",
       "      <td>1</td>\n",
       "      <td>1</td>\n",
       "      <td>27/07/2020</td>\n",
       "      <td>97</td>\n",
       "      <td>1</td>\n",
       "      <td>82</td>\n",
       "      <td>2</td>\n",
       "      <td>2</td>\n",
       "      <td>...</td>\n",
       "      <td>2</td>\n",
       "      <td>2</td>\n",
       "      <td>2</td>\n",
       "      <td>2</td>\n",
       "      <td>2</td>\n",
       "      <td>2</td>\n",
       "      <td>2</td>\n",
       "      <td>3</td>\n",
       "      <td>97</td>\n",
       "      <td>1</td>\n",
       "    </tr>\n",
       "    <tr>\n",
       "      <th>1047638</th>\n",
       "      <td>1</td>\n",
       "      <td>13</td>\n",
       "      <td>2</td>\n",
       "      <td>2</td>\n",
       "      <td>29/07/2020</td>\n",
       "      <td>1</td>\n",
       "      <td>1</td>\n",
       "      <td>80</td>\n",
       "      <td>97</td>\n",
       "      <td>2</td>\n",
       "      <td>...</td>\n",
       "      <td>2</td>\n",
       "      <td>2</td>\n",
       "      <td>2</td>\n",
       "      <td>2</td>\n",
       "      <td>1</td>\n",
       "      <td>2</td>\n",
       "      <td>2</td>\n",
       "      <td>3</td>\n",
       "      <td>2</td>\n",
       "      <td>1</td>\n",
       "    </tr>\n",
       "    <tr>\n",
       "      <th>1047639</th>\n",
       "      <td>1</td>\n",
       "      <td>13</td>\n",
       "      <td>2</td>\n",
       "      <td>2</td>\n",
       "      <td>29/07/2020</td>\n",
       "      <td>2</td>\n",
       "      <td>1</td>\n",
       "      <td>61</td>\n",
       "      <td>97</td>\n",
       "      <td>1</td>\n",
       "      <td>...</td>\n",
       "      <td>2</td>\n",
       "      <td>1</td>\n",
       "      <td>2</td>\n",
       "      <td>2</td>\n",
       "      <td>2</td>\n",
       "      <td>1</td>\n",
       "      <td>1</td>\n",
       "      <td>7</td>\n",
       "      <td>2</td>\n",
       "      <td>1</td>\n",
       "    </tr>\n",
       "  </tbody>\n",
       "</table>\n",
       "<p>76942 rows × 22 columns</p>\n",
       "</div>"
      ],
      "text/plain": [
       "         USMER  MEDICAL_UNIT  SEX  PATIENT_TYPE   DATE_DIED  INTUBED  \\\n",
       "0            2             1    1             1  03/05/2020       97   \n",
       "1            2             1    2             1  03/06/2020       97   \n",
       "2            2             1    2             2  09/06/2020        1   \n",
       "3            2             1    1             1  12/06/2020       97   \n",
       "4            2             1    2             1  21/06/2020       97   \n",
       "...        ...           ...  ...           ...         ...      ...   \n",
       "1047635      1            13    2             2  18/07/2020        1   \n",
       "1047636      1            13    2             1  26/07/2020       97   \n",
       "1047637      1            13    1             1  27/07/2020       97   \n",
       "1047638      1            13    2             2  29/07/2020        1   \n",
       "1047639      1            13    2             2  29/07/2020        2   \n",
       "\n",
       "         PNEUMONIA  AGE  PREGNANT  DIABETES  ...  INMSUPR  HIPERTENSION  \\\n",
       "0                1   65         2         2  ...        2             1   \n",
       "1                1   72        97         2  ...        2             1   \n",
       "2                2   55        97         1  ...        2             2   \n",
       "3                2   53         2         2  ...        2             2   \n",
       "4                2   68        97         1  ...        2             1   \n",
       "...            ...  ...       ...       ...  ...      ...           ...   \n",
       "1047635          1   73        97         2  ...        2             1   \n",
       "1047636          1   82        97         2  ...        2             1   \n",
       "1047637          1   82         2         2  ...        2             2   \n",
       "1047638          1   80        97         2  ...        2             2   \n",
       "1047639          1   61        97         1  ...        2             1   \n",
       "\n",
       "         OTHER_DISEASE  CARDIOVASCULAR  OBESITY  RENAL_CHRONIC  TOBACCO  \\\n",
       "0                    2               2        2              2        2   \n",
       "1                    2               2        1              1        2   \n",
       "2                    2               2        2              2        2   \n",
       "3                    2               2        2              2        2   \n",
       "4                    2               2        2              2        2   \n",
       "...                ...             ...      ...            ...      ...   \n",
       "1047635              2               2        1              2        2   \n",
       "1047636              2               2        2              2        2   \n",
       "1047637              2               2        2              2        2   \n",
       "1047638              2               2        1              2        2   \n",
       "1047639              2               2        2              1        1   \n",
       "\n",
       "         CLASIFFICATION_FINAL  ICU  died  \n",
       "0                           3   97     1  \n",
       "1                           5   97     1  \n",
       "2                           3    2     1  \n",
       "3                           7   97     1  \n",
       "4                           3   97     1  \n",
       "...                       ...  ...   ...  \n",
       "1047635                     3    2     1  \n",
       "1047636                     3   97     1  \n",
       "1047637                     3   97     1  \n",
       "1047638                     3    2     1  \n",
       "1047639                     7    2     1  \n",
       "\n",
       "[76942 rows x 22 columns]"
      ]
     },
     "execution_count": 19,
     "metadata": {},
     "output_type": "execute_result"
    }
   ],
   "source": [
    "deaths = df.copy()\n",
    "deaths.drop(deaths.index[df['DATE_DIED'] == 'recovered'], inplace=True)\n",
    "deaths"
   ]
  },
  {
   "cell_type": "code",
   "execution_count": 20,
   "metadata": {
    "collapsed": false
   },
   "outputs": [],
   "source": [
    "## change date_died datatype to date\n",
    "\n",
    "deaths['DATE_DIED'] = pd.to_datetime(deaths['DATE_DIED'], dayfirst=True)"
   ]
  },
  {
   "cell_type": "code",
   "execution_count": 21,
   "metadata": {
    "collapsed": false
   },
   "outputs": [],
   "source": [
    "## set the index to date and sort it\n",
    "\n",
    "deaths.set_index('DATE_DIED', inplace=True)\n",
    "deaths.sort_index(inplace=True)"
   ]
  },
  {
   "cell_type": "code",
   "execution_count": 22,
   "metadata": {
    "collapsed": false
   },
   "outputs": [
    {
     "data": {
      "text/html": [
       "<div>\n",
       "<style scoped>\n",
       "    .dataframe tbody tr th:only-of-type {\n",
       "        vertical-align: middle;\n",
       "    }\n",
       "\n",
       "    .dataframe tbody tr th {\n",
       "        vertical-align: top;\n",
       "    }\n",
       "\n",
       "    .dataframe thead th {\n",
       "        text-align: right;\n",
       "    }\n",
       "</style>\n",
       "<table border=\"1\" class=\"dataframe\">\n",
       "  <thead>\n",
       "    <tr style=\"text-align: right;\">\n",
       "      <th></th>\n",
       "      <th>USMER</th>\n",
       "      <th>MEDICAL_UNIT</th>\n",
       "      <th>SEX</th>\n",
       "      <th>PATIENT_TYPE</th>\n",
       "      <th>INTUBED</th>\n",
       "      <th>PNEUMONIA</th>\n",
       "      <th>AGE</th>\n",
       "      <th>PREGNANT</th>\n",
       "      <th>DIABETES</th>\n",
       "      <th>COPD</th>\n",
       "      <th>...</th>\n",
       "      <th>INMSUPR</th>\n",
       "      <th>HIPERTENSION</th>\n",
       "      <th>OTHER_DISEASE</th>\n",
       "      <th>CARDIOVASCULAR</th>\n",
       "      <th>OBESITY</th>\n",
       "      <th>RENAL_CHRONIC</th>\n",
       "      <th>TOBACCO</th>\n",
       "      <th>CLASIFFICATION_FINAL</th>\n",
       "      <th>ICU</th>\n",
       "      <th>died</th>\n",
       "    </tr>\n",
       "    <tr>\n",
       "      <th>DATE_DIED</th>\n",
       "      <th></th>\n",
       "      <th></th>\n",
       "      <th></th>\n",
       "      <th></th>\n",
       "      <th></th>\n",
       "      <th></th>\n",
       "      <th></th>\n",
       "      <th></th>\n",
       "      <th></th>\n",
       "      <th></th>\n",
       "      <th></th>\n",
       "      <th></th>\n",
       "      <th></th>\n",
       "      <th></th>\n",
       "      <th></th>\n",
       "      <th></th>\n",
       "      <th></th>\n",
       "      <th></th>\n",
       "      <th></th>\n",
       "      <th></th>\n",
       "      <th></th>\n",
       "    </tr>\n",
       "  </thead>\n",
       "  <tbody>\n",
       "    <tr>\n",
       "      <th>2020-01-02</th>\n",
       "      <td>2</td>\n",
       "      <td>4</td>\n",
       "      <td>1</td>\n",
       "      <td>2</td>\n",
       "      <td>99</td>\n",
       "      <td>99</td>\n",
       "      <td>65</td>\n",
       "      <td>2</td>\n",
       "      <td>2</td>\n",
       "      <td>2</td>\n",
       "      <td>...</td>\n",
       "      <td>1</td>\n",
       "      <td>2</td>\n",
       "      <td>2</td>\n",
       "      <td>2</td>\n",
       "      <td>2</td>\n",
       "      <td>2</td>\n",
       "      <td>2</td>\n",
       "      <td>7</td>\n",
       "      <td>99</td>\n",
       "      <td>1</td>\n",
       "    </tr>\n",
       "    <tr>\n",
       "      <th>2020-01-03</th>\n",
       "      <td>1</td>\n",
       "      <td>12</td>\n",
       "      <td>2</td>\n",
       "      <td>2</td>\n",
       "      <td>1</td>\n",
       "      <td>1</td>\n",
       "      <td>47</td>\n",
       "      <td>97</td>\n",
       "      <td>2</td>\n",
       "      <td>2</td>\n",
       "      <td>...</td>\n",
       "      <td>2</td>\n",
       "      <td>2</td>\n",
       "      <td>2</td>\n",
       "      <td>2</td>\n",
       "      <td>2</td>\n",
       "      <td>2</td>\n",
       "      <td>2</td>\n",
       "      <td>5</td>\n",
       "      <td>1</td>\n",
       "      <td>1</td>\n",
       "    </tr>\n",
       "    <tr>\n",
       "      <th>2020-01-03</th>\n",
       "      <td>1</td>\n",
       "      <td>4</td>\n",
       "      <td>2</td>\n",
       "      <td>2</td>\n",
       "      <td>99</td>\n",
       "      <td>99</td>\n",
       "      <td>15</td>\n",
       "      <td>97</td>\n",
       "      <td>2</td>\n",
       "      <td>2</td>\n",
       "      <td>...</td>\n",
       "      <td>2</td>\n",
       "      <td>2</td>\n",
       "      <td>2</td>\n",
       "      <td>2</td>\n",
       "      <td>2</td>\n",
       "      <td>2</td>\n",
       "      <td>2</td>\n",
       "      <td>7</td>\n",
       "      <td>99</td>\n",
       "      <td>1</td>\n",
       "    </tr>\n",
       "    <tr>\n",
       "      <th>2020-01-03</th>\n",
       "      <td>1</td>\n",
       "      <td>4</td>\n",
       "      <td>1</td>\n",
       "      <td>2</td>\n",
       "      <td>99</td>\n",
       "      <td>99</td>\n",
       "      <td>67</td>\n",
       "      <td>2</td>\n",
       "      <td>1</td>\n",
       "      <td>2</td>\n",
       "      <td>...</td>\n",
       "      <td>2</td>\n",
       "      <td>2</td>\n",
       "      <td>2</td>\n",
       "      <td>2</td>\n",
       "      <td>1</td>\n",
       "      <td>2</td>\n",
       "      <td>2</td>\n",
       "      <td>7</td>\n",
       "      <td>99</td>\n",
       "      <td>1</td>\n",
       "    </tr>\n",
       "    <tr>\n",
       "      <th>2020-01-03</th>\n",
       "      <td>1</td>\n",
       "      <td>8</td>\n",
       "      <td>1</td>\n",
       "      <td>2</td>\n",
       "      <td>99</td>\n",
       "      <td>99</td>\n",
       "      <td>67</td>\n",
       "      <td>2</td>\n",
       "      <td>2</td>\n",
       "      <td>1</td>\n",
       "      <td>...</td>\n",
       "      <td>1</td>\n",
       "      <td>1</td>\n",
       "      <td>2</td>\n",
       "      <td>2</td>\n",
       "      <td>1</td>\n",
       "      <td>2</td>\n",
       "      <td>2</td>\n",
       "      <td>7</td>\n",
       "      <td>99</td>\n",
       "      <td>1</td>\n",
       "    </tr>\n",
       "    <tr>\n",
       "      <th>...</th>\n",
       "      <td>...</td>\n",
       "      <td>...</td>\n",
       "      <td>...</td>\n",
       "      <td>...</td>\n",
       "      <td>...</td>\n",
       "      <td>...</td>\n",
       "      <td>...</td>\n",
       "      <td>...</td>\n",
       "      <td>...</td>\n",
       "      <td>...</td>\n",
       "      <td>...</td>\n",
       "      <td>...</td>\n",
       "      <td>...</td>\n",
       "      <td>...</td>\n",
       "      <td>...</td>\n",
       "      <td>...</td>\n",
       "      <td>...</td>\n",
       "      <td>...</td>\n",
       "      <td>...</td>\n",
       "      <td>...</td>\n",
       "      <td>...</td>\n",
       "    </tr>\n",
       "    <tr>\n",
       "      <th>2021-05-02</th>\n",
       "      <td>1</td>\n",
       "      <td>12</td>\n",
       "      <td>2</td>\n",
       "      <td>2</td>\n",
       "      <td>1</td>\n",
       "      <td>1</td>\n",
       "      <td>38</td>\n",
       "      <td>97</td>\n",
       "      <td>2</td>\n",
       "      <td>2</td>\n",
       "      <td>...</td>\n",
       "      <td>2</td>\n",
       "      <td>1</td>\n",
       "      <td>2</td>\n",
       "      <td>2</td>\n",
       "      <td>1</td>\n",
       "      <td>2</td>\n",
       "      <td>2</td>\n",
       "      <td>6</td>\n",
       "      <td>1</td>\n",
       "      <td>1</td>\n",
       "    </tr>\n",
       "    <tr>\n",
       "      <th>2021-05-02</th>\n",
       "      <td>1</td>\n",
       "      <td>12</td>\n",
       "      <td>2</td>\n",
       "      <td>2</td>\n",
       "      <td>2</td>\n",
       "      <td>1</td>\n",
       "      <td>38</td>\n",
       "      <td>97</td>\n",
       "      <td>2</td>\n",
       "      <td>2</td>\n",
       "      <td>...</td>\n",
       "      <td>2</td>\n",
       "      <td>2</td>\n",
       "      <td>2</td>\n",
       "      <td>2</td>\n",
       "      <td>2</td>\n",
       "      <td>2</td>\n",
       "      <td>2</td>\n",
       "      <td>6</td>\n",
       "      <td>1</td>\n",
       "      <td>1</td>\n",
       "    </tr>\n",
       "    <tr>\n",
       "      <th>2021-05-02</th>\n",
       "      <td>1</td>\n",
       "      <td>12</td>\n",
       "      <td>2</td>\n",
       "      <td>2</td>\n",
       "      <td>2</td>\n",
       "      <td>1</td>\n",
       "      <td>47</td>\n",
       "      <td>97</td>\n",
       "      <td>2</td>\n",
       "      <td>2</td>\n",
       "      <td>...</td>\n",
       "      <td>2</td>\n",
       "      <td>2</td>\n",
       "      <td>2</td>\n",
       "      <td>2</td>\n",
       "      <td>2</td>\n",
       "      <td>2</td>\n",
       "      <td>2</td>\n",
       "      <td>6</td>\n",
       "      <td>2</td>\n",
       "      <td>1</td>\n",
       "    </tr>\n",
       "    <tr>\n",
       "      <th>2021-05-02</th>\n",
       "      <td>2</td>\n",
       "      <td>12</td>\n",
       "      <td>2</td>\n",
       "      <td>2</td>\n",
       "      <td>2</td>\n",
       "      <td>1</td>\n",
       "      <td>83</td>\n",
       "      <td>97</td>\n",
       "      <td>2</td>\n",
       "      <td>2</td>\n",
       "      <td>...</td>\n",
       "      <td>2</td>\n",
       "      <td>2</td>\n",
       "      <td>2</td>\n",
       "      <td>1</td>\n",
       "      <td>2</td>\n",
       "      <td>2</td>\n",
       "      <td>2</td>\n",
       "      <td>7</td>\n",
       "      <td>2</td>\n",
       "      <td>1</td>\n",
       "    </tr>\n",
       "    <tr>\n",
       "      <th>2021-05-02</th>\n",
       "      <td>2</td>\n",
       "      <td>4</td>\n",
       "      <td>2</td>\n",
       "      <td>1</td>\n",
       "      <td>97</td>\n",
       "      <td>2</td>\n",
       "      <td>41</td>\n",
       "      <td>97</td>\n",
       "      <td>2</td>\n",
       "      <td>2</td>\n",
       "      <td>...</td>\n",
       "      <td>2</td>\n",
       "      <td>2</td>\n",
       "      <td>2</td>\n",
       "      <td>2</td>\n",
       "      <td>2</td>\n",
       "      <td>2</td>\n",
       "      <td>2</td>\n",
       "      <td>3</td>\n",
       "      <td>97</td>\n",
       "      <td>1</td>\n",
       "    </tr>\n",
       "  </tbody>\n",
       "</table>\n",
       "<p>76942 rows × 21 columns</p>\n",
       "</div>"
      ],
      "text/plain": [
       "            USMER  MEDICAL_UNIT  SEX  PATIENT_TYPE  INTUBED  PNEUMONIA  AGE  \\\n",
       "DATE_DIED                                                                     \n",
       "2020-01-02      2             4    1             2       99         99   65   \n",
       "2020-01-03      1            12    2             2        1          1   47   \n",
       "2020-01-03      1             4    2             2       99         99   15   \n",
       "2020-01-03      1             4    1             2       99         99   67   \n",
       "2020-01-03      1             8    1             2       99         99   67   \n",
       "...           ...           ...  ...           ...      ...        ...  ...   \n",
       "2021-05-02      1            12    2             2        1          1   38   \n",
       "2021-05-02      1            12    2             2        2          1   38   \n",
       "2021-05-02      1            12    2             2        2          1   47   \n",
       "2021-05-02      2            12    2             2        2          1   83   \n",
       "2021-05-02      2             4    2             1       97          2   41   \n",
       "\n",
       "            PREGNANT  DIABETES  COPD  ...  INMSUPR  HIPERTENSION  \\\n",
       "DATE_DIED                             ...                          \n",
       "2020-01-02         2         2     2  ...        1             2   \n",
       "2020-01-03        97         2     2  ...        2             2   \n",
       "2020-01-03        97         2     2  ...        2             2   \n",
       "2020-01-03         2         1     2  ...        2             2   \n",
       "2020-01-03         2         2     1  ...        1             1   \n",
       "...              ...       ...   ...  ...      ...           ...   \n",
       "2021-05-02        97         2     2  ...        2             1   \n",
       "2021-05-02        97         2     2  ...        2             2   \n",
       "2021-05-02        97         2     2  ...        2             2   \n",
       "2021-05-02        97         2     2  ...        2             2   \n",
       "2021-05-02        97         2     2  ...        2             2   \n",
       "\n",
       "            OTHER_DISEASE  CARDIOVASCULAR  OBESITY  RENAL_CHRONIC  TOBACCO  \\\n",
       "DATE_DIED                                                                    \n",
       "2020-01-02              2               2        2              2        2   \n",
       "2020-01-03              2               2        2              2        2   \n",
       "2020-01-03              2               2        2              2        2   \n",
       "2020-01-03              2               2        1              2        2   \n",
       "2020-01-03              2               2        1              2        2   \n",
       "...                   ...             ...      ...            ...      ...   \n",
       "2021-05-02              2               2        1              2        2   \n",
       "2021-05-02              2               2        2              2        2   \n",
       "2021-05-02              2               2        2              2        2   \n",
       "2021-05-02              2               1        2              2        2   \n",
       "2021-05-02              2               2        2              2        2   \n",
       "\n",
       "            CLASIFFICATION_FINAL  ICU  died  \n",
       "DATE_DIED                                    \n",
       "2020-01-02                     7   99     1  \n",
       "2020-01-03                     5    1     1  \n",
       "2020-01-03                     7   99     1  \n",
       "2020-01-03                     7   99     1  \n",
       "2020-01-03                     7   99     1  \n",
       "...                          ...  ...   ...  \n",
       "2021-05-02                     6    1     1  \n",
       "2021-05-02                     6    1     1  \n",
       "2021-05-02                     6    2     1  \n",
       "2021-05-02                     7    2     1  \n",
       "2021-05-02                     3   97     1  \n",
       "\n",
       "[76942 rows x 21 columns]"
      ]
     },
     "execution_count": 22,
     "metadata": {},
     "output_type": "execute_result"
    }
   ],
   "source": [
    "deaths"
   ]
  },
  {
   "cell_type": "code",
   "execution_count": 23,
   "metadata": {
    "collapsed": false
   },
   "outputs": [],
   "source": [
    "## Plotting total deaths for each month\n",
    "\n",
    "plt.figure(figsize=(10,6))\n",
    "plt.plot(deaths['died'].resample('M').count())\n",
    "plt.title('Monthy Covid Deaths', fontsize=20)\n",
    "plt.xlabel('Month', fontsize=12)\n",
    "plt.ylabel('Deaths', fontsize=12)\n",
    "plt.show()"
   ]
  },
  {
   "cell_type": "code",
   "execution_count": null,
   "metadata": {
    "collapsed": false
   },
   "outputs": [],
   "source": [
    "## exporting the deaths dataframe into excel for use in tableau\n",
    "\n",
    "#deaths.to_excel('/Users/katiejones/Documents/Digital Futures/DATASETS/covidDeaths.xlsx', index=True)"
   ]
  },
  {
   "cell_type": "code",
   "execution_count": null,
   "metadata": {
    "collapsed": false
   },
   "outputs": [],
   "source": [
    "## Function to look at the number of deaths from each category\n",
    "\n",
    "def died (category):\n",
    "    plt.figure(figsize = (5,3))\n",
    "    ax = sns.countplot(x=deaths[category], palette = 'coolwarm')\n",
    "    plt.title(f'Number of Deaths by {category}')\n",
    "\n",
    "    plt.xticks(\n",
    "        horizontalalignment='right',\n",
    "        fontweight='light',\n",
    "        fontsize='large', wrap=True\n",
    "    )\n",
    "    plt.show()\n",
    "    return ax"
   ]
  },
  {
   "cell_type": "code",
   "execution_count": null,
   "metadata": {
    "collapsed": false
   },
   "outputs": [],
   "source": [
    "## Using the same plotlist from above\n",
    "\n",
    "[died(i) for i in plotlist]"
   ]
  },
  {
   "cell_type": "markdown",
   "metadata": {
    "collapsed": false
   },
   "source": [
    "## Cleaning the Data"
   ]
  },
  {
   "cell_type": "markdown",
   "metadata": {
    "collapsed": false
   },
   "source": [
    "We need to address nulls and sort out the column names\n",
    "\n",
    "Null values are shown as 97, 98 and 99\n",
    "- 97, 98 and 99 show in intubed, pneumonia, age, pregnant, diabetes, copd, asthma, inmusupr, hipertension, other_disease, cardiovascular, obesity, renal_chronic, tobacco and icu"
   ]
  },
  {
   "cell_type": "code",
   "execution_count": null,
   "metadata": {
    "collapsed": false
   },
   "outputs": [],
   "source": [
    "## Checking what values are in each column\n",
    "\n",
    "for column in df:\n",
    "    print(df[column].value_counts())"
   ]
  },
  {
   "cell_type": "code",
   "execution_count": null,
   "metadata": {
    "collapsed": false
   },
   "outputs": [],
   "source": [
    "## pregnant column\n",
    "\n",
    "df.groupby('PREGNANT')[['SEX']].value_counts()"
   ]
  },
  {
   "cell_type": "code",
   "execution_count": null,
   "metadata": {
    "collapsed": false
   },
   "outputs": [],
   "source": [
    "## For pregnant, where the value is 97, the patient is a male so all 97s can be changed to 2 for no\n",
    "\n",
    "df['PREGNANT'] = df['PREGNANT'].replace(97, 2)\n",
    "\n",
    "df.groupby('PREGNANT')[['SEX']].value_counts()"
   ]
  },
  {
   "cell_type": "code",
   "execution_count": null,
   "metadata": {
    "collapsed": false
   },
   "outputs": [],
   "source": [
    "## To address the nulls we want to create a new column for each factor\n",
    "## we can map 1 as 1 and 2 as 0 which will change everything else (97, 98 and 99) to nulls\n",
    "## we also want to change the column names to lower case to make them easier to work with\n",
    "\n",
    "column = ['SEX','PREGNANT','DIABETES','COPD','ASTHMA','INMSUPR','HIPERTENSION','OTHER_DISEASE','CARDIOVASCULAR','OBESITY','RENAL_CHRONIC','TOBACCO', 'USMER','PATIENT_TYPE','INTUBED','PNEUMONIA','ICU']\n",
    "\n",
    "for column in column:\n",
    "    new = '{}'.format(column.lower())\n",
    "    df[new] = df[column].map({1:1, 2:0})\n",
    "\n",
    "df.head()"
   ]
  },
  {
   "cell_type": "code",
   "execution_count": null,
   "metadata": {
    "collapsed": false
   },
   "outputs": [],
   "source": [
    "## we can now create a new dataframe with the new column names\n",
    "## we need to remember to include 'AGE', 'MEDICAL_UNIT', 'CLASSIFICATION_FINAL, 'died' and 'DATE_DIED\n",
    "\n",
    "df_new = df[['sex', 'AGE', 'pregnant', 'diabetes', 'copd', 'asthma', 'inmsupr', 'hipertension', 'other_disease',\n",
    "             'cardiovascular', 'obesity', 'renal_chronic', 'tobacco', 'usmer', 'patient_type', 'intubed',\n",
    "             'pneumonia', 'icu', 'MEDICAL_UNIT', 'CLASIFFICATION_FINAL', 'died', 'DATE_DIED']]\n",
    "\n",
    "df_new.head()"
   ]
  },
  {
   "cell_type": "code",
   "execution_count": null,
   "metadata": {
    "collapsed": false
   },
   "outputs": [],
   "source": [
    "## create new column names to make it easier to work with\n",
    "\n",
    "new_names = {'AGE':'age','inmsupr':'immunosup','hipertension':'hypertension','MEDICAL_UNIT':'medical_unit','CLASIFFICATION_FINAL':'classification','DATE_DIED':'date_died'}\n",
    "\n",
    "df_new.rename(columns = new_names, inplace = 'True')\n",
    "\n",
    "df_new.head()"
   ]
  },
  {
   "cell_type": "code",
   "execution_count": null,
   "metadata": {
    "collapsed": false
   },
   "outputs": [],
   "source": [
    "## create a copy to remove nulls\n",
    "\n",
    "df_new1 = df_new.copy()"
   ]
  },
  {
   "cell_type": "code",
   "execution_count": null,
   "metadata": {
    "collapsed": false
   },
   "outputs": [],
   "source": [
    "## create a new dataset with all nulls removed - incase I want to use it later\n",
    "\n",
    "df_all = df_new1.dropna(subset = ['pregnant','diabetes','copd','asthma','immunosup','hypertension','other_disease','cardiovascular','obesity','renal_chronic','tobacco', 'pneumonia','intubed','icu'])\n",
    "\n",
    "print(df_all.shape)\n",
    "df_all.isnull().sum()"
   ]
  },
  {
   "cell_type": "code",
   "execution_count": null,
   "metadata": {
    "collapsed": false
   },
   "outputs": [],
   "source": [
    "## 'intubed' and 'icu' have a large proportion of nulls so it is better for now to drop them.\n",
    "## there are a small proportion of nulls in 'pregnant','diabetes','copd','asthma','immunosup','hypertension','other_disease','cardiovascular','obesity','renal_chronic','tobacco' and 'pneumonia', so we can remove those nulls without it having impact on the dataset.\n",
    "\n",
    "df_new1 = df_new1.dropna(subset = ['pregnant','diabetes','copd','asthma','immunosup','hypertension','other_disease','cardiovascular','obesity','renal_chronic','tobacco','pneumonia'])\n",
    "\n",
    "df_new1 = df_new1.drop(columns = ['intubed','icu'])\n",
    "\n",
    "print(df_new1.shape)\n",
    "print(df_new1.isnull().sum())"
   ]
  },
  {
   "cell_type": "markdown",
   "metadata": {
    "collapsed": false
   },
   "source": [
    "We need to look at the age column"
   ]
  },
  {
   "cell_type": "code",
   "execution_count": null,
   "metadata": {
    "collapsed": false
   },
   "outputs": [],
   "source": [
    "df_new1['age'].agg(['mean','min','max'])"
   ]
  },
  {
   "cell_type": "code",
   "execution_count": null,
   "metadata": {
    "collapsed": false
   },
   "outputs": [],
   "source": [
    "df_new1['age'].value_counts()"
   ]
  },
  {
   "cell_type": "code",
   "execution_count": null,
   "metadata": {
    "collapsed": false
   },
   "outputs": [],
   "source": [
    "## visualise 'age'\n",
    "\n",
    "plt.figure(figsize = (20,10))\n",
    "sns.countplot(x = 'age', data = df_new1)\n",
    "plt.show()"
   ]
  },
  {
   "cell_type": "code",
   "execution_count": null,
   "metadata": {
    "collapsed": false
   },
   "outputs": [],
   "source": [
    "## We need to create age groups\n",
    "## 1 = 0-14, 2 = 15-24, 3 = 25-34, 4 = 35-44, 5 = 45-54, 5 = 55-64, 6 = 65-74, 7 = 75-84, 8 = 85+\n",
    "\n",
    "def age_grouping (x):\n",
    "    if x < 15:\n",
    "        return '0-14'\n",
    "    elif x < 25:\n",
    "        return '15-24'\n",
    "    elif x < 35:\n",
    "        return '25-34'\n",
    "    elif x < 45:\n",
    "        return '35-44'\n",
    "    elif x < 55:\n",
    "        return '45-54'\n",
    "    elif x < 65:\n",
    "        return '55-64'\n",
    "    elif x < 75:\n",
    "        return '65-74'\n",
    "    elif x < 85:\n",
    "        return '75-84'\n",
    "    else:\n",
    "        return '85+'\n",
    "\n",
    "df_new1['age_group'] = df_new1['age'].apply(age_grouping)"
   ]
  },
  {
   "cell_type": "code",
   "execution_count": null,
   "metadata": {
    "collapsed": false
   },
   "outputs": [],
   "source": [
    "## export the cleaned dataframe to excel so it can be used in tableau\n",
    "\n",
    "##df_new1.to_excel('/Users/katiejones/Documents/Digital Futures/DATASETS/covid_cleaned.xlsx', index=True)"
   ]
  },
  {
   "cell_type": "code",
   "execution_count": null,
   "metadata": {
    "collapsed": false
   },
   "outputs": [],
   "source": [
    "## Number of patients without any of the conditions\n",
    "\n",
    "no_condition = df_new1[(df_new1['asthma'] == 0) & (df_new1['cardiovascular'] == 0) & (df_new1['copd'] == 0) & (df_new1['diabetes'] == 0) & (df_new1['hypertension'] == 0) & (df_new1['immunosup'] == 0) & (df_new1['obesity'] == 0) & (df_new1['other_disease'] == 0) & (df_new1['pregnant'] == 0) & (df_new1['renal_chronic'] == 0) & (df_new1['tobacco'] == 0)]\n",
    "\n",
    "no_condition"
   ]
  },
  {
   "cell_type": "code",
   "execution_count": null,
   "metadata": {
    "collapsed": false
   },
   "outputs": [],
   "source": [
    "no_condition['died'].value_counts()"
   ]
  },
  {
   "cell_type": "code",
   "execution_count": null,
   "metadata": {
    "collapsed": false
   },
   "outputs": [],
   "source": [
    "df_new1"
   ]
  },
  {
   "cell_type": "code",
   "execution_count": null,
   "metadata": {
    "collapsed": false
   },
   "outputs": [],
   "source": []
  },
  {
   "cell_type": "markdown",
   "metadata": {
    "collapsed": false
   },
   "source": [
    "## Some more Visualisations on the cleaned dataset"
   ]
  },
  {
   "cell_type": "code",
   "execution_count": null,
   "metadata": {
    "collapsed": false
   },
   "outputs": [],
   "source": [
    "## visualise correlations\n",
    "\n",
    "plt.figure(figsize = (15,8))\n",
    "sns.heatmap(df_new1.corr(),annot = True, cmap = 'coolwarm')\n",
    "plt.show()"
   ]
  },
  {
   "cell_type": "code",
   "execution_count": null,
   "metadata": {
    "collapsed": false
   },
   "outputs": [],
   "source": [
    "## Visualise what proportion of patients died and recovered\n",
    "\n",
    "#plt.figure(figsize = (5,3))\n",
    "sns.countplot(x=df_new1['died'], palette='coolwarm')\n",
    "plt.title('Total Deaths and Recoveries')\n",
    "plt.show()\n",
    "\n",
    "df_new1['died'].value_counts(normalize=True).mul(100).round(2)"
   ]
  },
  {
   "cell_type": "code",
   "execution_count": null,
   "metadata": {
    "collapsed": false
   },
   "outputs": [],
   "source": [
    "## Look at the spread of each age group\n",
    "\n",
    "sns.countplot(data = df_new1,\n",
    "              x = 'age_group',\n",
    "              palette = 'coolwarm',\n",
    "              order = ['0-14','15-24','25-34','35-44','45-54','55-64','65-74','75-84','85+'])\n",
    "plt.title('Age of Patients')\n",
    "plt.show()"
   ]
  },
  {
   "cell_type": "code",
   "execution_count": null,
   "metadata": {
    "collapsed": false
   },
   "outputs": [],
   "source": [
    "## visualise the proportion of who died and recovered for each age group\n",
    "\n",
    "sns.countplot(x= df_new1['age_group'], hue= df_new1['died'],order = ['0-14','15-24','25-34','35-44','45-54','55-64','65-74','75-84','85+'], palette = 'coolwarm')\n",
    "\n",
    "plt.xticks(horizontalalignment='right',fontweight ='light',fontsize ='large', wrap = True)\n",
    "plt.show()"
   ]
  },
  {
   "cell_type": "code",
   "execution_count": null,
   "metadata": {
    "collapsed": false
   },
   "outputs": [],
   "source": [
    "## creating a clean dataset of those that died\n",
    "\n",
    "deaths1 = df_new1.copy()\n",
    "deaths1.drop(deaths1.index[df_new1['date_died'] == 'recovered'], inplace=True)\n",
    "deaths1"
   ]
  },
  {
   "cell_type": "code",
   "execution_count": null,
   "metadata": {
    "collapsed": false
   },
   "outputs": [],
   "source": [
    "## A plot of how many patients from each age group died\n",
    "\n",
    "sns.countplot(data = deaths1,\n",
    "              x = 'age_group',\n",
    "              palette = 'coolwarm',\n",
    "              order = ['0-14','15-24','25-34','35-44','45-54','55-64','65-74','75-84','85+'])\n",
    "plt.title('Number of Deaths per Age Group')\n",
    "plt.show()"
   ]
  },
  {
   "cell_type": "markdown",
   "metadata": {
    "collapsed": false
   },
   "source": [
    "Plotting proportions of each category that died and recovered"
   ]
  },
  {
   "cell_type": "code",
   "execution_count": null,
   "metadata": {
    "collapsed": false
   },
   "outputs": [],
   "source": [
    "## Pregnant\n",
    "\n",
    "pregnant = df.copy()\n",
    "pregnant.drop(pregnant[pregnant['PREGNANT'] != 1].index, inplace=True)\n",
    "\n",
    "plt.figure(figsize = (5,3))\n",
    "sns.countplot(x=pregnant['died'], palette='coolwarm')\n",
    "plt.title('Pregnancy')\n",
    "plt.show()\n",
    "\n",
    "pregnant['died'].value_counts(normalize=True).mul(100).round(2)"
   ]
  },
  {
   "cell_type": "code",
   "execution_count": null,
   "metadata": {
    "collapsed": false
   },
   "outputs": [],
   "source": [
    "## Diabetes\n",
    "\n",
    "d = df.copy()\n",
    "d.drop(d[d['DIABETES'] != 1].index, inplace=True)\n",
    "\n",
    "plt.figure(figsize = (5,3))\n",
    "sns.countplot(x=d['died'], palette='coolwarm')\n",
    "plt.title('Diabetes')\n",
    "plt.show()\n",
    "\n",
    "d['died'].value_counts(normalize=True).mul(100).round(2)"
   ]
  },
  {
   "cell_type": "code",
   "execution_count": null,
   "metadata": {
    "collapsed": false
   },
   "outputs": [],
   "source": [
    "## COPD\n",
    "\n",
    "copd = df.copy()\n",
    "copd.drop(copd[copd['COPD'] != 1].index, inplace=True)\n",
    "\n",
    "plt.figure(figsize = (5,3))\n",
    "sns.countplot(x=copd['died'], palette='coolwarm')\n",
    "plt.title('COPD')\n",
    "plt.show()\n",
    "\n",
    "copd['died'].value_counts(normalize=True).mul(100).round(2)"
   ]
  },
  {
   "cell_type": "code",
   "execution_count": null,
   "metadata": {
    "collapsed": false
   },
   "outputs": [],
   "source": [
    "## Asthma\n",
    "\n",
    "a = df.copy()\n",
    "a.drop(a[a['ASTHMA'] != 1].index, inplace=True)\n",
    "\n",
    "plt.figure(figsize = (5,3))\n",
    "sns.countplot(x=a['died'], palette='coolwarm')\n",
    "plt.title('Asthma')\n",
    "plt.show()\n",
    "a['died'].value_counts(normalize=True).mul(100).round(2)"
   ]
  },
  {
   "cell_type": "code",
   "execution_count": null,
   "metadata": {
    "collapsed": false
   },
   "outputs": [],
   "source": [
    "## Immunosuppressants\n",
    "\n",
    "i = df.copy()\n",
    "i.drop(i[i['INMSUPR'] != 1].index, inplace=True)\n",
    "\n",
    "plt.figure(figsize = (5,3))\n",
    "sns.countplot(x=i['died'], palette='coolwarm')\n",
    "plt.title('Immunosuppressed')\n",
    "plt.show()\n",
    "\n",
    "i['died'].value_counts(normalize=True).mul(100).round(2)"
   ]
  },
  {
   "cell_type": "code",
   "execution_count": null,
   "metadata": {
    "collapsed": false
   },
   "outputs": [],
   "source": [
    "## Hypertension\n",
    "\n",
    "h = df.copy()\n",
    "h.drop(h[h['HIPERTENSION'] != 1].index, inplace=True)\n",
    "\n",
    "plt.figure(figsize = (5,3))\n",
    "sns.countplot(x=h['died'], palette='coolwarm')\n",
    "plt.title('Hypertension')\n",
    "plt.show()\n",
    "\n",
    "h['died'].value_counts(normalize=True).mul(100).round(2)"
   ]
  },
  {
   "cell_type": "code",
   "execution_count": null,
   "metadata": {
    "collapsed": false
   },
   "outputs": [],
   "source": [
    "## Other Disease\n",
    "\n",
    "o_d = df.copy()\n",
    "o_d.drop(o_d[o_d['OTHER_DISEASE'] != 1].index, inplace=True)\n",
    "\n",
    "plt.figure(figsize = (5,3))\n",
    "sns.countplot(x=o_d['died'], palette='coolwarm')\n",
    "plt.title('Other Disease')\n",
    "plt.show()\n",
    "\n",
    "o_d['died'].value_counts(normalize=True).mul(100).round(2)"
   ]
  },
  {
   "cell_type": "code",
   "execution_count": null,
   "metadata": {
    "collapsed": false
   },
   "outputs": [],
   "source": [
    "## Cardiovascular\n",
    "\n",
    "cv = df.copy()\n",
    "cv.drop(cv[cv['CARDIOVASCULAR'] != 1].index, inplace=True)\n",
    "\n",
    "plt.figure(figsize = (5,3))\n",
    "sns.countplot(x=cv['died'], palette='coolwarm')\n",
    "plt.title('Cardiovascular')\n",
    "plt.show()\n",
    "\n",
    "cv['died'].value_counts(normalize=True).mul(100).round(2)"
   ]
  },
  {
   "cell_type": "code",
   "execution_count": null,
   "metadata": {
    "collapsed": false
   },
   "outputs": [],
   "source": [
    "## Obesity\n",
    "\n",
    "o = df.copy()\n",
    "o.drop(o[o['OBESITY'] != 1].index, inplace=True)\n",
    "\n",
    "plt.figure(figsize = (5,3))\n",
    "sns.countplot(x=o['died'], palette='coolwarm')\n",
    "plt.title('Obesity')\n",
    "plt.show()\n",
    "\n",
    "o['died'].value_counts(normalize=True).mul(100).round(2)"
   ]
  },
  {
   "cell_type": "code",
   "execution_count": null,
   "metadata": {
    "collapsed": false
   },
   "outputs": [],
   "source": [
    "## Renal Chronic\n",
    "\n",
    "r_c = df.copy()\n",
    "r_c.drop(r_c[r_c['RENAL_CHRONIC'] != 1].index, inplace=True)\n",
    "\n",
    "plt.figure(figsize = (5,3))\n",
    "sns.countplot(x=r_c['died'], palette='coolwarm')\n",
    "plt.title('Chronic Renal Disease')\n",
    "plt.show()\n",
    "\n",
    "r_c['died'].value_counts(normalize=True).mul(100).round(2)"
   ]
  },
  {
   "cell_type": "code",
   "execution_count": null,
   "metadata": {
    "collapsed": false
   },
   "outputs": [],
   "source": [
    "## Tobacco\n",
    "\n",
    "t = df.copy()\n",
    "t.drop(t[t['TOBACCO'] != 1].index, inplace=True)\n",
    "\n",
    "plt.figure(figsize = (5,3))\n",
    "sns.countplot(x=t['died'], palette='coolwarm')\n",
    "plt.title('Tobacco Users')\n",
    "plt.show()\n",
    "\n",
    "t['died'].value_counts(normalize=True).mul(100).round(2)"
   ]
  },
  {
   "cell_type": "markdown",
   "metadata": {
    "collapsed": false
   },
   "source": [
    "To look at proportions of each age group that died we need to One Hot Encode (OHE).\n",
    "\n",
    "Here I am creating a new OHE dataset just to visualise - I will do it properly later on."
   ]
  },
  {
   "cell_type": "code",
   "execution_count": null,
   "metadata": {
    "collapsed": false
   },
   "outputs": [],
   "source": [
    "## One Hot Encode (OHE) age_group\n",
    "\n",
    "def ohe(data):\n",
    "    data = pd.get_dummies(data, columns = ['age_group'])\n",
    "    data.drop(columns = ['age_group_0-14'], inplace=True)\n",
    "    return data"
   ]
  },
  {
   "cell_type": "code",
   "execution_count": null,
   "metadata": {
    "collapsed": false
   },
   "outputs": [],
   "source": [
    "df_new2 = ohe(df_new1)"
   ]
  },
  {
   "cell_type": "code",
   "execution_count": null,
   "metadata": {
    "collapsed": false
   },
   "outputs": [],
   "source": [
    "## Over 85\n",
    "\n",
    "over_85 = df_new2.copy()\n",
    "over_85.drop(over_85[over_85['age_group_85+'] != 1].index, inplace=True)\n",
    "\n",
    "plt.figure(figsize = (5,3))\n",
    "sns.countplot(x= over_85['died'], palette = 'coolwarm')\n",
    "plt.title('over_85')\n",
    "plt.show()\n",
    "\n",
    "over_85['died'].value_counts(normalize=True).mul(100).round(2)"
   ]
  },
  {
   "cell_type": "code",
   "execution_count": null,
   "metadata": {
    "collapsed": false
   },
   "outputs": [],
   "source": [
    "## age_group_75-84\n",
    "\n",
    "age_group_75to84 = df_new2.copy()\n",
    "age_group_75to84.drop(age_group_75to84[age_group_75to84['age_group_75-84'] != 1].index, inplace=True)\n",
    "\n",
    "plt.figure(figsize = (5,3))\n",
    "sns.countplot(x= age_group_75to84['died'], palette = 'coolwarm')\n",
    "plt.title('75to84')\n",
    "plt.show()\n",
    "\n",
    "age_group_75to84['died'].value_counts(normalize=True).mul(100).round(2)"
   ]
  },
  {
   "cell_type": "code",
   "execution_count": null,
   "metadata": {
    "collapsed": false
   },
   "outputs": [],
   "source": [
    "## age_group_65to74\n",
    "\n",
    "age_group_65to74 = df_new2.copy()\n",
    "age_group_65to74.drop(age_group_65to74[age_group_65to74['age_group_65-74'] != 1].index, inplace=True)\n",
    "\n",
    "plt.figure(figsize = (5,3))\n",
    "sns.countplot(x= age_group_65to74['died'], palette = 'coolwarm')\n",
    "plt.title('65to74')\n",
    "plt.show()\n",
    "\n",
    "age_group_65to74['died'].value_counts(normalize=True).mul(100).round(2)"
   ]
  },
  {
   "cell_type": "code",
   "execution_count": null,
   "metadata": {
    "collapsed": false
   },
   "outputs": [],
   "source": [
    "## age_group_55to64\n",
    "\n",
    "age_group_55to64 = df_new2.copy()\n",
    "age_group_55to64.drop(age_group_55to64[age_group_55to64['age_group_55-64'] != 1].index, inplace=True)\n",
    "\n",
    "plt.figure(figsize = (5,3))\n",
    "sns.countplot(x= age_group_55to64['died'], palette = 'coolwarm')\n",
    "plt.title('55to64')\n",
    "plt.show()\n",
    "\n",
    "age_group_55to64['died'].value_counts(normalize=True).mul(100).round(2)"
   ]
  },
  {
   "cell_type": "code",
   "execution_count": null,
   "metadata": {
    "collapsed": false
   },
   "outputs": [],
   "source": [
    "## age_group_45to54\n",
    "\n",
    "age_group_45to54 = df_new2.copy()\n",
    "age_group_45to54.drop(age_group_45to54[age_group_45to54['age_group_45-54'] != 1].index, inplace=True)\n",
    "\n",
    "plt.figure(figsize = (5,3))\n",
    "sns.countplot(x= age_group_45to54['died'], palette = 'coolwarm')\n",
    "plt.title('45to54')\n",
    "plt.show()\n",
    "\n",
    "age_group_45to54['died'].value_counts(normalize=True).mul(100).round(2)"
   ]
  },
  {
   "cell_type": "code",
   "execution_count": null,
   "metadata": {
    "collapsed": false
   },
   "outputs": [],
   "source": []
  },
  {
   "cell_type": "markdown",
   "metadata": {
    "collapsed": false
   },
   "source": [
    "## Modelling"
   ]
  },
  {
   "cell_type": "markdown",
   "metadata": {
    "collapsed": false
   },
   "source": [
    "1. Sample the data"
   ]
  },
  {
   "cell_type": "code",
   "execution_count": null,
   "metadata": {
    "collapsed": false
   },
   "outputs": [],
   "source": [
    "## sample to use 1% of the data to test the models - will convert back to the original when I have a final model\n",
    "\n",
    "sampled = df_new1.sample(frac=0.01, random_state=42)"
   ]
  },
  {
   "cell_type": "code",
   "execution_count": null,
   "metadata": {
    "collapsed": false
   },
   "outputs": [],
   "source": [
    "## checking the sample has similar proportions of 'died' to the original\n",
    "\n",
    "sampled['died'].value_counts(normalize=True)"
   ]
  },
  {
   "cell_type": "code",
   "execution_count": null,
   "metadata": {
    "collapsed": false
   },
   "outputs": [],
   "source": [
    "df_new1['died'].value_counts(normalize=True)"
   ]
  },
  {
   "cell_type": "markdown",
   "metadata": {
    "collapsed": false
   },
   "source": [
    "## Train Test Split"
   ]
  },
  {
   "cell_type": "code",
   "execution_count": null,
   "metadata": {
    "collapsed": false
   },
   "outputs": [],
   "source": [
    "## splitting the target value (y) from the rest of the dataframe\n",
    "\n",
    "X = sampled.drop(columns=['died'])\n",
    "y = sampled['died']\n",
    "\n",
    "## applying train test split\n",
    "\n",
    "X_train, X_test, y_train, y_test = train_test_split(X, y, test_size=0.20, random_state=45)"
   ]
  },
  {
   "cell_type": "markdown",
   "metadata": {
    "collapsed": false
   },
   "source": [
    "## Feature Engineering"
   ]
  },
  {
   "cell_type": "code",
   "execution_count": null,
   "metadata": {
    "collapsed": false
   },
   "outputs": [],
   "source": [
    "## Function to remove 'patient_type','pneumonia','medical_unit','classification','usmer','date_died','age'\n",
    "\n",
    "def drop (data):\n",
    "    data.drop(columns = ['patient_type','pneumonia','medical_unit','classification','usmer','date_died','age'], inplace = True)\n",
    "    return data"
   ]
  },
  {
   "cell_type": "code",
   "execution_count": null,
   "metadata": {
    "collapsed": false
   },
   "outputs": [],
   "source": [
    "## Function to One Hot Encode (OHE) age_group\n",
    "\n",
    "def ohe(data):\n",
    "    data = pd.get_dummies(data, columns = ['age_group'])\n",
    "    data.drop(columns = ['age_group_0-14'], inplace=True)\n",
    "    return data"
   ]
  },
  {
   "cell_type": "code",
   "execution_count": null,
   "metadata": {
    "collapsed": false
   },
   "outputs": [],
   "source": [
    "## function combining the two above\n",
    "\n",
    "def feature_eng(dfr):\n",
    "    dfr = drop(dfr)\n",
    "    dfr = ohe(dfr)\n",
    "    return dfr"
   ]
  },
  {
   "cell_type": "code",
   "execution_count": null,
   "metadata": {
    "collapsed": false
   },
   "outputs": [],
   "source": [
    "## apply feature engineering function to the train set\n",
    "\n",
    "X_train = feature_eng(X_train)"
   ]
  },
  {
   "cell_type": "code",
   "execution_count": null,
   "metadata": {
    "collapsed": false
   },
   "outputs": [],
   "source": [
    "## Function getting confusion matrix and scores\n",
    "\n",
    "def get_results(actual, predicted):\n",
    "    print(\"The confusion matrix for your predictions is:\")\n",
    "    print(confusion_matrix(actual, predicted), \"\\n\")\n",
    "    print(f'The accuracy of your model is: {accuracy(actual, predicted)}')\n",
    "    print(f'The recall of your model is: {recall(actual, predicted)}')\n",
    "    print(f'The precision of your model is: {precision(actual, predicted)}')\n",
    "    print(f'The F1-score of your model is: {f1(actual, predicted)}')"
   ]
  },
  {
   "cell_type": "code",
   "execution_count": null,
   "metadata": {
    "collapsed": false
   },
   "outputs": [],
   "source": [
    "## creating an empty dataframe to store the results in\n",
    "\n",
    "results = pd.DataFrame(columns = ['model','accuracy','recall','precision','f1_score'])\n",
    "\n",
    "## function to store the results\n",
    "\n",
    "def measures (name, actual, predicted):\n",
    "    dict = {'model':name, 'accuracy':accuracy(actual, predicted), 'recall':recall(actual, predicted), 'precision': precision(actual, predicted), 'f1_score': f1(actual, predicted)}\n",
    "    return dict\n"
   ]
  },
  {
   "cell_type": "markdown",
   "metadata": {
    "collapsed": false
   },
   "source": [
    "## Logistic Regression"
   ]
  },
  {
   "cell_type": "code",
   "execution_count": null,
   "metadata": {
    "collapsed": false
   },
   "outputs": [],
   "source": [
    "## Function for Logistic Regression\n",
    "\n",
    "lr = LogisticRegression(max_iter=300, random_state=10)\n",
    "\n",
    "def lre(X,y, cutoff):\n",
    "    lr.fit(X, y)\n",
    "    lr_results = X.copy()\n",
    "    lr_results[['recovered', 'died']] = lr.predict_proba(X)\n",
    "    lr_results['y_pred_lr'] = np.where(lr_results['died'] > cutoff, 1, 0)\n",
    "    return lr_results"
   ]
  },
  {
   "cell_type": "code",
   "execution_count": null,
   "metadata": {
    "collapsed": false
   },
   "outputs": [],
   "source": [
    "lr.coef_[0]"
   ]
  },
  {
   "cell_type": "code",
   "execution_count": null,
   "metadata": {
    "collapsed": false
   },
   "outputs": [],
   "source": []
  },
  {
   "cell_type": "markdown",
   "metadata": {
    "collapsed": false
   },
   "source": [
    "## Decision Trees"
   ]
  },
  {
   "cell_type": "code",
   "execution_count": null,
   "metadata": {
    "collapsed": false
   },
   "outputs": [],
   "source": [
    "## Finding the best parameters to use for decision trees\n",
    "\n",
    "grid = GridSearchCV(estimator=DecisionTreeClassifier(),\n",
    "                    param_grid={'max_depth': [2, 3, 4, 5, 6, 7, 8, 9, 10],\n",
    "                                'min_samples_split': [2, 3, 4, 5, 10, 15, 20, 50],\n",
    "                                'min_samples_leaf': [2, 3, 4, 5, 6, 7, 8, 9, 10, 15, 18, 20, 22, 25]},\n",
    "                    cv=5,\n",
    "                    refit=True,\n",
    "                    verbose=2,\n",
    "                    scoring='accuracy')\n",
    "\n",
    "grid.fit(X_train, y_train)\n",
    "\n",
    "print(grid.best_params_)\n",
    "print(grid.best_score_)"
   ]
  },
  {
   "cell_type": "code",
   "execution_count": null,
   "metadata": {
    "collapsed": false
   },
   "outputs": [],
   "source": [
    "## Decision Trees function\n",
    "\n",
    "dt = DecisionTreeClassifier(max_depth=3, min_samples_leaf=22, min_samples_split=2)\n",
    "\n",
    "def dtr(X,y,dt, cutoff):\n",
    "    dt = dt.fit(X, y)\n",
    "    dt_results = X.copy()\n",
    "    dt_results['y_pred_dt'] = dt.predict(X)\n",
    "    dt_results['y_real_dt'] = y\n",
    "    dt_results['y_prob_dt'] = dt.predict_proba(X)[:,1]\n",
    "    dt_results['y_pred_dt'] = np.where(dt_results['y_prob_dt'] > cutoff, 1, 0)\n",
    "    return dt_results"
   ]
  },
  {
   "cell_type": "markdown",
   "metadata": {
    "collapsed": false
   },
   "source": [
    "## Random Forest"
   ]
  },
  {
   "cell_type": "code",
   "execution_count": null,
   "metadata": {
    "collapsed": false
   },
   "outputs": [],
   "source": [
    "## looking at best parameters to use\n",
    "\n",
    "gs = GridSearchCV(RandomForestClassifier(),\n",
    "                  param_grid={'max_depth': [None, 1, 2, 3, 4, 5, 6, 7, 8],\n",
    "                              'n_estimators': [25, 50, 75, 100, 125, 150]},\n",
    "                  cv=5)\n",
    "\n",
    "gs.fit(X_train, y_train)\n",
    "\n",
    "print(gs.best_params_)\n",
    "print(gs.best_score_)"
   ]
  },
  {
   "cell_type": "code",
   "execution_count": null,
   "metadata": {
    "collapsed": false
   },
   "outputs": [],
   "source": [
    "## Function for random forest\n",
    "\n",
    "rf = RandomForestClassifier(n_estimators= 25, max_depth= 1)\n",
    "\n",
    "def rfo(X,y, cutoff):\n",
    "    rf.fit(X, y)\n",
    "    rf_results = X.copy()\n",
    "    rf_results['y_pred_rf'] = rf.predict(X)\n",
    "    rf_results['y_real_rf'] = y\n",
    "    rf_results['y_prob_rf'] = rf.predict_proba(X)[:,1]\n",
    "    rf_results['y_pred_rf'] = np.where(rf_results['y_prob_rf'] > cutoff, 1, 0)\n",
    "    return rf_results"
   ]
  },
  {
   "cell_type": "markdown",
   "metadata": {
    "collapsed": false
   },
   "source": [
    "## Evaluating the models on the train set"
   ]
  },
  {
   "cell_type": "markdown",
   "metadata": {
    "collapsed": false
   },
   "source": [
    "1. Logistic Regression"
   ]
  },
  {
   "cell_type": "code",
   "execution_count": null,
   "metadata": {
    "collapsed": false
   },
   "outputs": [],
   "source": [
    "## Apply the LR function to the train set and get the confusion matrix and scores\n",
    "\n",
    "lr_results = lre(X_train, y_train, 0.4)\n",
    "get_results(y_train,lr_results['y_pred_lr'])\n"
   ]
  },
  {
   "cell_type": "code",
   "execution_count": null,
   "metadata": {
    "collapsed": false
   },
   "outputs": [],
   "source": [
    "## putting the results in the dataframe\n",
    "\n",
    "dict = measures('LogisticRegression', y_train,lr_results['y_pred_lr'])\n",
    "results = results.append(dict, ignore_index = True)"
   ]
  },
  {
   "cell_type": "markdown",
   "metadata": {
    "collapsed": false
   },
   "source": [
    "2. Decision Trees"
   ]
  },
  {
   "cell_type": "code",
   "execution_count": null,
   "metadata": {
    "collapsed": false
   },
   "outputs": [],
   "source": [
    "## Apply the DT function to the train set and get the confusion matrix and scores\n",
    "\n",
    "dt_results = dtr(X_train, y_train, dt, 0.4)\n",
    "get_results(y_train,dt_results['y_pred_dt'])"
   ]
  },
  {
   "cell_type": "code",
   "execution_count": null,
   "metadata": {
    "collapsed": false
   },
   "outputs": [],
   "source": [
    "## putting the results in the dataframe\n",
    "\n",
    "dict = measures('DecisionTree', y_train,dt_results['y_pred_dt'])\n",
    "results = results.append(dict, ignore_index = True)"
   ]
  },
  {
   "cell_type": "code",
   "execution_count": null,
   "metadata": {
    "collapsed": false
   },
   "outputs": [],
   "source": []
  },
  {
   "cell_type": "markdown",
   "metadata": {
    "collapsed": false
   },
   "source": [
    "3. Random Forest"
   ]
  },
  {
   "cell_type": "code",
   "execution_count": null,
   "metadata": {
    "collapsed": false
   },
   "outputs": [],
   "source": [
    "## Apply the RF function to the train set and get the confusion matrix and scores\n",
    "\n",
    "rf_results = rfo(X_train, y_train, 0.4)\n",
    "get_results(y_train,rf_results['y_pred_rf'])"
   ]
  },
  {
   "cell_type": "code",
   "execution_count": null,
   "metadata": {
    "collapsed": false
   },
   "outputs": [],
   "source": [
    "## putting the results in the dataframe\n",
    "\n",
    "dict = measures('RandomForest', y_train,rf_results['y_pred_rf'])\n",
    "results = results.append(dict, ignore_index = True)"
   ]
  },
  {
   "cell_type": "markdown",
   "metadata": {
    "collapsed": false
   },
   "source": [
    "4. Compare results"
   ]
  },
  {
   "cell_type": "code",
   "execution_count": null,
   "metadata": {
    "collapsed": false
   },
   "outputs": [],
   "source": [
    "results"
   ]
  },
  {
   "cell_type": "code",
   "execution_count": null,
   "metadata": {
    "collapsed": false
   },
   "outputs": [],
   "source": []
  },
  {
   "cell_type": "markdown",
   "metadata": {
    "collapsed": false
   },
   "source": [
    "## Undersampling\n",
    "\n",
    "- Got bad recall, precision and F1 scores because the target is very unbalanced\n",
    "- I need to see if undersampling will help -> it is a technique used to balance uneven datasets by keeping all of the data in the minority class and decreasing the size of the majority class.\n",
    "- I want to do this on the original unsampled data."
   ]
  },
  {
   "cell_type": "code",
   "execution_count": null,
   "metadata": {
    "collapsed": false
   },
   "outputs": [],
   "source": [
    "## determine X and y\n",
    "\n",
    "X = df_new1.drop(columns=['died'])\n",
    "y = df_new1['died']"
   ]
  },
  {
   "cell_type": "code",
   "execution_count": null,
   "metadata": {
    "collapsed": false
   },
   "outputs": [],
   "source": [
    "## apply the random under sampler to X and y\n",
    "\n",
    "rus = RandomUnderSampler(random_state=0)\n",
    "X_resampled,y_resampled = rus.fit_resample(X,y)"
   ]
  },
  {
   "cell_type": "code",
   "execution_count": null,
   "metadata": {
    "collapsed": false
   },
   "outputs": [],
   "source": [
    "## look at proportions of died and recovered\n",
    "\n",
    "plt.figure(figsize = (5,3))\n",
    "ax = sns.countplot(x = y_res, palette='coolwarm')\n",
    "plt.bar_label(ax.containers[0])\n",
    "plt.show()"
   ]
  },
  {
   "cell_type": "code",
   "execution_count": null,
   "metadata": {
    "collapsed": false
   },
   "outputs": [],
   "source": [
    "## train test split\n",
    "\n",
    "X_res, X_test1, y_res, y_test1 = train_test_split(X_resampled, y_resampled, test_size=0.20, random_state=45)"
   ]
  },
  {
   "cell_type": "code",
   "execution_count": null,
   "metadata": {
    "collapsed": false
   },
   "outputs": [],
   "source": []
  },
  {
   "cell_type": "markdown",
   "metadata": {
    "collapsed": false
   },
   "source": [
    "## Apply feature engineering to the new train sets"
   ]
  },
  {
   "cell_type": "code",
   "execution_count": null,
   "metadata": {
    "collapsed": false
   },
   "outputs": [],
   "source": [
    "X_res = feature_eng(X_res).copy()"
   ]
  },
  {
   "cell_type": "markdown",
   "metadata": {
    "collapsed": false
   },
   "source": [
    "## Apply the models to the new train sets"
   ]
  },
  {
   "cell_type": "markdown",
   "metadata": {
    "collapsed": false
   },
   "source": [
    "First we need to find the best parameters to use on the undersampled dataset"
   ]
  },
  {
   "cell_type": "code",
   "execution_count": null,
   "metadata": {
    "collapsed": false
   },
   "outputs": [],
   "source": [
    "## Finding the best parameters to use for decision trees\n",
    "\n",
    "grid = GridSearchCV(estimator=DecisionTreeClassifier(),\n",
    "                    param_grid={'max_depth': [2, 4, 6, 8, 10],\n",
    "                                'min_samples_split': [5, 10, 15, 20, 50],\n",
    "                                'min_samples_leaf': [2, 4, 6, 8, 10, 15, 20, 22]},\n",
    "                    cv=5,\n",
    "                    refit=True,\n",
    "                    verbose=2,\n",
    "                    scoring='accuracy')\n",
    "\n",
    "grid.fit(X_res, y_res)\n",
    "\n",
    "print(grid.best_params_)\n",
    "print(grid.best_score_)"
   ]
  },
  {
   "cell_type": "code",
   "execution_count": null,
   "metadata": {
    "collapsed": false
   },
   "outputs": [],
   "source": [
    "## Decision Trees new function\n",
    "\n",
    "dt1 = DecisionTreeClassifier(max_depth=10, min_samples_leaf=20, min_samples_split=50)\n",
    "\n",
    "def dtr1 (X, y, dt1, cutoff):\n",
    "    dt1 = dt1.fit(X, y)\n",
    "    dt1_results = X.copy()\n",
    "    dt1_results['y_pred_dt1'] = dt1.predict(X)\n",
    "    dt1_results['y_real_dt1'] = y\n",
    "    dt1_results['y_prob_dt1'] = dt1.predict_proba(X)[:, 1]\n",
    "    dt1_results['y_pred_dt1'] = np.where(dt1_results['y_prob_dt1'] > cutoff, 1, 0)\n",
    "    return dt1_results"
   ]
  },
  {
   "cell_type": "code",
   "execution_count": null,
   "metadata": {
    "collapsed": false
   },
   "outputs": [],
   "source": [
    "## looking at best parameters to use for random forest\n",
    "\n",
    "gs = GridSearchCV(RandomForestClassifier(),\n",
    "                  param_grid={'max_depth': [None, 2, 4, 6, 8],\n",
    "                              'n_estimators': [25, 50, 75, 100]},\n",
    "                  cv=5)\n",
    "\n",
    "gs.fit(X_train, y_train)\n",
    "\n",
    "print(gs.best_params_)\n",
    "print(gs.best_score_)"
   ]
  },
  {
   "cell_type": "code",
   "execution_count": null,
   "metadata": {
    "collapsed": false
   },
   "outputs": [],
   "source": [
    "## new function for random forest\n",
    "\n",
    "rf1 = RandomForestClassifier(n_estimators=25, max_depth=8)\n",
    "\n",
    "def rfo1 (X, y, cutoff):\n",
    "    rf1.fit(X, y)\n",
    "    rf1_results = X.copy()\n",
    "    rf1_results['y_pred_rf1'] = rf1.predict(X)\n",
    "    rf1_results['y_real_rf1'] = y\n",
    "    rf1_results['y_prob_rf1'] = rf1.predict_proba(X)[:, 1]\n",
    "    rf1_results['y_pred_rf1'] = np.where(rf1_results['y_prob_rf1'] > cutoff, 1, 0)\n",
    "    return rf1_results"
   ]
  },
  {
   "cell_type": "code",
   "execution_count": null,
   "metadata": {
    "collapsed": false
   },
   "outputs": [],
   "source": []
  },
  {
   "cell_type": "markdown",
   "metadata": {
    "collapsed": false
   },
   "source": [
    "1. Logistic Regression"
   ]
  },
  {
   "cell_type": "code",
   "execution_count": null,
   "metadata": {
    "collapsed": false
   },
   "outputs": [],
   "source": [
    "## Apply the LR function to the train set and get the confusion matrix and scores\n",
    "\n",
    "lr_results1 = lre(X_res, y_res, 0.4)\n",
    "get_results(y_res,lr_results1['y_pred_lr'])"
   ]
  },
  {
   "cell_type": "code",
   "execution_count": null,
   "metadata": {
    "collapsed": false
   },
   "outputs": [],
   "source": [
    "## putting the results in the dataframe\n",
    "\n",
    "dict = measures('LR_undersampled', y_res, lr_results1['y_pred_lr'])\n",
    "results = results.append(dict, ignore_index = True)"
   ]
  },
  {
   "cell_type": "markdown",
   "metadata": {
    "collapsed": false
   },
   "source": [
    "2. Decision Trees"
   ]
  },
  {
   "cell_type": "code",
   "execution_count": null,
   "metadata": {
    "collapsed": false
   },
   "outputs": [],
   "source": [
    "## Apply the DT function to the train set and get the confusion matrix and scores\n",
    "\n",
    "dt_results1 = dtr1(X_res, y_res, dt, 0.4)\n",
    "get_results(y_res, dt_results1['y_pred_dt1'])\n"
   ]
  },
  {
   "cell_type": "code",
   "execution_count": null,
   "metadata": {
    "collapsed": false
   },
   "outputs": [],
   "source": [
    "## putting the results in the dataframe\n",
    "\n",
    "dict = measures('DT_undersampled', y_res, dt_results1['y_pred_dt1'])\n",
    "results = results.append(dict, ignore_index = True)"
   ]
  },
  {
   "cell_type": "markdown",
   "metadata": {
    "collapsed": false
   },
   "source": [
    "3. Random Forest"
   ]
  },
  {
   "cell_type": "code",
   "execution_count": null,
   "metadata": {
    "collapsed": false
   },
   "outputs": [],
   "source": [
    "## Apply the RF function to the train set and get the confusion matrix and scores\n",
    "\n",
    "rf_results1 = rfo1(X_res, y_res, 0.4)\n",
    "get_results(y_res, rf_results1['y_pred_rf1'])"
   ]
  },
  {
   "cell_type": "code",
   "execution_count": null,
   "metadata": {
    "collapsed": false
   },
   "outputs": [],
   "source": [
    "## putting the results in the dataframe\n",
    "\n",
    "dict = measures('RF_undersampled', y_res, rf_results1['y_pred_rf1'])\n",
    "results = results.append(dict, ignore_index = True)"
   ]
  },
  {
   "cell_type": "markdown",
   "metadata": {
    "collapsed": false
   },
   "source": [
    "4. Compare the results"
   ]
  },
  {
   "cell_type": "code",
   "execution_count": null,
   "metadata": {
    "collapsed": false
   },
   "outputs": [],
   "source": [
    "results"
   ]
  },
  {
   "cell_type": "code",
   "execution_count": null,
   "metadata": {
    "collapsed": false
   },
   "outputs": [],
   "source": []
  },
  {
   "cell_type": "markdown",
   "metadata": {
    "collapsed": false
   },
   "source": [
    "## Feature Selection to improve the models"
   ]
  },
  {
   "cell_type": "code",
   "execution_count": null,
   "metadata": {
    "collapsed": false
   },
   "outputs": [],
   "source": [
    "conditions = df_new1.copy()\n",
    "conditions = feature_eng(conditions)"
   ]
  },
  {
   "cell_type": "code",
   "execution_count": null,
   "metadata": {
    "collapsed": false
   },
   "outputs": [],
   "source": [
    "plt.figure(figsize = (15,8))\n",
    "sns.heatmap(conditions.corr(), annot = True, cmap = 'coolwarm')\n",
    "plt.show()"
   ]
  },
  {
   "cell_type": "code",
   "execution_count": null,
   "metadata": {
    "collapsed": false
   },
   "outputs": [],
   "source": [
    "## 'diabetes','hypertension','age_group_55-64','age_group_65-74','age_group_75-84' and 'age_group_85+' have correlations >0.1 with 'died'\n",
    "## 'copd','obesity' and 'renal_chronic' have correlations >0.05 with 'died'\n",
    "## can use these as a start point for the feature columns\n",
    "\n",
    "features = ['diabetes','hypertension','age_group_55-64','age_group_65-74','age_group_75-84','age_group_85+','copd','obesity','renal_chronic','sex','age_group_25-34','age_group_35-44']\n",
    "\n",
    "features1 = ['diabetes','hypertension','age_group_55-64','age_group_65-74','age_group_75-84','age_group_85+']\n",
    "\n",
    "X_res1 = X_res[features].copy()\n",
    "X_res2 = X_res[features1].copy()"
   ]
  },
  {
   "cell_type": "code",
   "execution_count": null,
   "metadata": {
    "collapsed": false
   },
   "outputs": [],
   "source": [
    "## feature importance in Decision Trees\n",
    "\n",
    "for name, importance in zip(X_res, dt.feature_importances_):\n",
    "    print(name, \"=\", importance)"
   ]
  },
  {
   "cell_type": "code",
   "execution_count": null,
   "metadata": {
    "collapsed": false
   },
   "outputs": [],
   "source": [
    "## Lets say anything over 0.05 is important\n",
    "\n",
    "features_dt = ['sex','renal_chronic','tobacco']\n",
    "\n",
    "X_res3 = X_res[features_dt].copy()"
   ]
  },
  {
   "cell_type": "code",
   "execution_count": null,
   "metadata": {
    "collapsed": false
   },
   "outputs": [],
   "source": [
    "## Feature importance in Random Forest\n",
    "\n",
    "for name, importance in zip(X_res, rf.feature_importances_):\n",
    "    print(name, \"=\", importance)"
   ]
  },
  {
   "cell_type": "code",
   "execution_count": null,
   "metadata": {
    "collapsed": false
   },
   "outputs": [],
   "source": [
    "## Lets say anything over 0.05 is important\n",
    "\n",
    "features_rf = ['diabetes','renal_chronic','age_group_25-34','age_group_35-44','age_group_65-74','age_group_75-84']\n",
    "\n",
    "X_res4 = X_res[features_rf].copy()"
   ]
  },
  {
   "cell_type": "code",
   "execution_count": null,
   "metadata": {
    "collapsed": false
   },
   "outputs": [],
   "source": []
  },
  {
   "cell_type": "code",
   "execution_count": null,
   "metadata": {
    "collapsed": false
   },
   "outputs": [],
   "source": []
  },
  {
   "cell_type": "markdown",
   "metadata": {
    "collapsed": false
   },
   "source": [
    "## Testing 'features' on the models"
   ]
  },
  {
   "cell_type": "markdown",
   "metadata": {
    "collapsed": false
   },
   "source": [
    "1. Logistic Regression"
   ]
  },
  {
   "cell_type": "code",
   "execution_count": null,
   "metadata": {
    "collapsed": false
   },
   "outputs": [],
   "source": [
    "## Apply the LR function to the train set and get the confusion matrix and scores\n",
    "\n",
    "lr_results2 = lre(X_res1, y_res, 0.4)\n",
    "get_results(y_res,lr_results2['y_pred_lr'])"
   ]
  },
  {
   "cell_type": "code",
   "execution_count": null,
   "metadata": {
    "collapsed": false
   },
   "outputs": [],
   "source": [
    "## putting the results in the dataframe\n",
    "\n",
    "dict = measures('LR_features', y_res, lr_results2['y_pred_lr'])\n",
    "results = results.append(dict, ignore_index = True)"
   ]
  },
  {
   "cell_type": "markdown",
   "metadata": {
    "collapsed": false
   },
   "source": [
    "2. Decision Trees"
   ]
  },
  {
   "cell_type": "code",
   "execution_count": null,
   "metadata": {
    "collapsed": false
   },
   "outputs": [],
   "source": [
    "## Apply the DT function to the train set and get the confusion matrix and scores\n",
    "\n",
    "dt_results2 = dtr1(X_res1, y_res, dt, 0.4)\n",
    "get_results(y_res, dt_results2['y_pred_dt1'])"
   ]
  },
  {
   "cell_type": "code",
   "execution_count": null,
   "metadata": {
    "collapsed": false
   },
   "outputs": [],
   "source": [
    "## putting the results in the dataframe\n",
    "\n",
    "dict = measures('DT_features', y_res, dt_results2['y_pred_dt1'])\n",
    "results = results.append(dict, ignore_index = True)\n"
   ]
  },
  {
   "cell_type": "markdown",
   "metadata": {
    "collapsed": false
   },
   "source": [
    "3. Random Forest"
   ]
  },
  {
   "cell_type": "code",
   "execution_count": null,
   "metadata": {
    "collapsed": false
   },
   "outputs": [],
   "source": [
    "## Apply the RF function to the train set and get the confusion matrix and scores\n",
    "\n",
    "rf_results2 = rfo1(X_res1, y_res, 0.44)\n",
    "get_results(y_res, rf_results2['y_pred_rf1'])\n"
   ]
  },
  {
   "cell_type": "code",
   "execution_count": null,
   "metadata": {
    "collapsed": false
   },
   "outputs": [],
   "source": [
    "## putting the results in the dataframe\n",
    "\n",
    "dict = measures('RF_features', y_res, rf_results2['y_pred_rf1'])\n",
    "results = results.append(dict, ignore_index = True)"
   ]
  },
  {
   "cell_type": "markdown",
   "metadata": {
    "collapsed": false
   },
   "source": [
    "4. Comparing results"
   ]
  },
  {
   "cell_type": "code",
   "execution_count": null,
   "metadata": {
    "collapsed": false
   },
   "outputs": [],
   "source": [
    "results"
   ]
  },
  {
   "cell_type": "markdown",
   "metadata": {
    "collapsed": false
   },
   "source": [
    "## Testing ‘features1’ on the models"
   ]
  },
  {
   "cell_type": "code",
   "execution_count": null,
   "metadata": {
    "collapsed": false
   },
   "outputs": [],
   "source": [
    "## Apply the LR function to the train set and get the confusion matrix and scores\n",
    "\n",
    "lr_results3 = lre(X_res2, y_res, 0.45)\n",
    "get_results(y_res,lr_results3['y_pred_lr'])\n"
   ]
  },
  {
   "cell_type": "code",
   "execution_count": null,
   "metadata": {
    "collapsed": false
   },
   "outputs": [],
   "source": [
    "## putting the results in the dataframe\n",
    "\n",
    "dict = measures('LR_features1', y_res, lr_results3['y_pred_lr'])\n",
    "results = results.append(dict, ignore_index = True)\n"
   ]
  },
  {
   "cell_type": "markdown",
   "metadata": {
    "collapsed": false
   },
   "source": [
    "2. Decision Trees"
   ]
  },
  {
   "cell_type": "code",
   "execution_count": null,
   "metadata": {
    "collapsed": false
   },
   "outputs": [],
   "source": [
    "## Apply the DT function to the train set and get the confusion matrix and scores\n",
    "\n",
    "dt_results3 = dtr1(X_res2, y_res, dt, 0.5)\n",
    "get_results(y_res, dt_results3['y_pred_dt1'])\n"
   ]
  },
  {
   "cell_type": "code",
   "execution_count": null,
   "metadata": {
    "collapsed": false
   },
   "outputs": [],
   "source": [
    "## putting the results in the dataframe\n",
    "\n",
    "dict = measures('DT_features1', y_res, dt_results3['y_pred_dt1'])\n",
    "results = results.append(dict, ignore_index = True)\n"
   ]
  },
  {
   "cell_type": "markdown",
   "metadata": {
    "collapsed": false
   },
   "source": [
    "3. Random Forest"
   ]
  },
  {
   "cell_type": "code",
   "execution_count": null,
   "metadata": {
    "collapsed": false
   },
   "outputs": [],
   "source": [
    "## Apply the RF function to the train set and get the confusion matrix and scores\n",
    "\n",
    "rf_results3 = rfo1(X_res2, y_res, 0.4)\n",
    "get_results(y_res, rf_results3['y_pred_rf1'])"
   ]
  },
  {
   "cell_type": "code",
   "execution_count": null,
   "metadata": {
    "collapsed": false
   },
   "outputs": [],
   "source": [
    "## putting the results in the dataframe\n",
    "\n",
    "dict = measures('RF_features1', y_res, rf_results3['y_pred_rf1'])\n",
    "results = results.append(dict, ignore_index = True)\n"
   ]
  },
  {
   "cell_type": "markdown",
   "metadata": {
    "collapsed": false
   },
   "source": [
    "4. Comparing the results"
   ]
  },
  {
   "cell_type": "code",
   "execution_count": null,
   "metadata": {
    "collapsed": false
   },
   "outputs": [],
   "source": [
    "results"
   ]
  },
  {
   "cell_type": "markdown",
   "metadata": {
    "collapsed": false
   },
   "source": [
    "## Testing ‘features_dt’ and 'features_rf' on the models"
   ]
  },
  {
   "cell_type": "markdown",
   "metadata": {
    "collapsed": false
   },
   "source": [
    "1. Decision Trees"
   ]
  },
  {
   "cell_type": "code",
   "execution_count": null,
   "metadata": {
    "collapsed": false
   },
   "outputs": [],
   "source": [
    "## Apply the DT function to the train set and get the confusion matrix and scores\n",
    "\n",
    "dt_results4 = dtr1(X_res3, y_res, dt, 0.5)\n",
    "get_results(y_res, dt_results4['y_pred_dt1'])\n"
   ]
  },
  {
   "cell_type": "code",
   "execution_count": null,
   "metadata": {
    "collapsed": false
   },
   "outputs": [],
   "source": [
    "## putting the results in the dataframe\n",
    "\n",
    "dict = measures('DT_features_dt', y_res, dt_results4['y_pred_dt1'])\n",
    "results = results.append(dict, ignore_index = True)\n"
   ]
  },
  {
   "cell_type": "markdown",
   "metadata": {
    "collapsed": false
   },
   "source": [
    "2. Random Forest"
   ]
  },
  {
   "cell_type": "code",
   "execution_count": null,
   "metadata": {
    "collapsed": false
   },
   "outputs": [],
   "source": [
    "## Apply the RF function to the train set and get the confusion matrix and scores\n",
    "\n",
    "rf_results4 = rfo1(X_res4, y_res, 0.45)\n",
    "get_results(y_res, rf_results4['y_pred_rf1'])"
   ]
  },
  {
   "cell_type": "code",
   "execution_count": null,
   "metadata": {
    "collapsed": false
   },
   "outputs": [],
   "source": [
    "## putting the results in the dataframe\n",
    "\n",
    "dict = measures('RF_features_rf', y_res, rf_results4['y_pred_rf1'])\n",
    "results = results.append(dict, ignore_index = True)"
   ]
  },
  {
   "cell_type": "markdown",
   "metadata": {
    "collapsed": false
   },
   "source": [
    "3. Looking at the results"
   ]
  },
  {
   "cell_type": "code",
   "execution_count": null,
   "metadata": {
    "collapsed": false
   },
   "outputs": [],
   "source": [
    "results"
   ]
  },
  {
   "cell_type": "markdown",
   "metadata": {
    "collapsed": false
   },
   "source": [
    "## Combining the models\n",
    "\n",
    "- lets try combining the models by working out the mode of y_preds"
   ]
  },
  {
   "cell_type": "markdown",
   "metadata": {
    "collapsed": false
   },
   "source": [
    "1. Combine the undersampled models"
   ]
  },
  {
   "cell_type": "code",
   "execution_count": null,
   "metadata": {
    "collapsed": false
   },
   "outputs": [],
   "source": [
    "## First lets combine the undersampled models\n",
    "\n",
    "c = pd.DataFrame(columns = ['lr','dt','rf'])\n",
    "\n",
    "c['lr'] = lr_results1['y_pred_lr']\n",
    "c['dt'] = dt_results1['y_pred_dt1']\n",
    "c['rf'] = rf_results1['y_pred_rf1']"
   ]
  },
  {
   "cell_type": "code",
   "execution_count": null,
   "metadata": {
    "collapsed": false
   },
   "outputs": [],
   "source": [
    "c['mode_y_pred'] = c.mode(axis='columns')"
   ]
  },
  {
   "cell_type": "code",
   "execution_count": null,
   "metadata": {
    "collapsed": false
   },
   "outputs": [],
   "source": [
    "combined = X_res.copy()\n",
    "combined['target'] = y_res\n",
    "combined['y_pred'] = c['mode_y_pred']"
   ]
  },
  {
   "cell_type": "code",
   "execution_count": null,
   "metadata": {
    "collapsed": false
   },
   "outputs": [],
   "source": [
    "## get the confusion matrix and scores\n",
    "\n",
    "get_results(y_res, combined['y_pred'])"
   ]
  },
  {
   "cell_type": "code",
   "execution_count": null,
   "metadata": {
    "collapsed": false
   },
   "outputs": [],
   "source": [
    "## putting the results in the dataframe\n",
    "\n",
    "dict = measures('undersampled_combined', y_res, combined['y_pred'])\n",
    "results = results.append(dict, ignore_index = True)\n"
   ]
  },
  {
   "cell_type": "markdown",
   "metadata": {
    "collapsed": false
   },
   "source": [
    "2. Combine the 'features' models"
   ]
  },
  {
   "cell_type": "code",
   "execution_count": null,
   "metadata": {
    "collapsed": false
   },
   "outputs": [],
   "source": [
    "c1 = pd.DataFrame(columns = ['lr','dt','rf'])\n",
    "\n",
    "c1['lr'] = lr_results2['y_pred_lr']\n",
    "c1['dt'] = dt_results2['y_pred_dt1']\n",
    "c1['rf'] = rf_results2['y_pred_rf1']"
   ]
  },
  {
   "cell_type": "code",
   "execution_count": null,
   "metadata": {
    "collapsed": false
   },
   "outputs": [],
   "source": [
    "c1['mode_y_pred'] = c1.mode(axis='columns')"
   ]
  },
  {
   "cell_type": "code",
   "execution_count": null,
   "metadata": {
    "collapsed": false
   },
   "outputs": [],
   "source": [
    "combined1 = X_res1.copy()\n",
    "combined1['target'] = y_res\n",
    "combined1['y_pred'] = c1['mode_y_pred']"
   ]
  },
  {
   "cell_type": "code",
   "execution_count": null,
   "metadata": {
    "collapsed": false
   },
   "outputs": [],
   "source": [
    "## get the confusion matrix and scores\n",
    "\n",
    "get_results(y_res, combined1['y_pred'])"
   ]
  },
  {
   "cell_type": "code",
   "execution_count": null,
   "metadata": {
    "collapsed": false
   },
   "outputs": [],
   "source": [
    "## putting the results in the dataframe\n",
    "\n",
    "dict = measures('features_combined', y_res, combined1['y_pred'])\n",
    "results = results.append(dict, ignore_index = True)"
   ]
  },
  {
   "cell_type": "code",
   "execution_count": null,
   "metadata": {
    "collapsed": false
   },
   "outputs": [],
   "source": []
  },
  {
   "cell_type": "code",
   "execution_count": null,
   "metadata": {
    "collapsed": false
   },
   "outputs": [],
   "source": []
  },
  {
   "cell_type": "markdown",
   "metadata": {
    "collapsed": false
   },
   "source": [
    "## Comparing results to find the best models"
   ]
  },
  {
   "cell_type": "code",
   "execution_count": null,
   "metadata": {
    "collapsed": false
   },
   "outputs": [],
   "source": [
    "## Plot of accuracy, recall, precision and f1_score\n",
    "\n",
    "results.plot(x='model', y = ['accuracy','recall','precision','f1_score'], kind = 'bar', figsize = (10,6), colormap = 'coolwarm_r')\n",
    "plt.xticks(rotation = 45, horizontalalignment = 'right', fontweight = 'light', fontsize = 'small')\n",
    "plt.title('Accuracy, Recall, Precision and F1 Scores of the Models')\n",
    "plt.show()"
   ]
  },
  {
   "cell_type": "code",
   "execution_count": null,
   "metadata": {
    "collapsed": false
   },
   "outputs": [],
   "source": [
    "## Plot of accuracy seperate\n",
    "\n",
    "plt.figure(figsize = (10,6))\n",
    "sns.barplot(x='model', y='accuracy', data=results, palette='coolwarm')\n",
    "plt.xticks(rotation = 45, horizontalalignment = 'right', fontweight = 'light', fontsize = 'small')\n",
    "plt.show()"
   ]
  },
  {
   "cell_type": "code",
   "execution_count": null,
   "metadata": {
    "collapsed": false
   },
   "outputs": [],
   "source": [
    "## Plot of recall seperate\n",
    "\n",
    "plt.figure(figsize = (10,6))\n",
    "sns.barplot(x='model', y='recall', data=results, palette='coolwarm')\n",
    "plt.xticks(rotation = 45, horizontalalignment = 'right', fontweight = 'light', fontsize = 'small')\n",
    "plt.show()"
   ]
  },
  {
   "cell_type": "code",
   "execution_count": null,
   "metadata": {
    "collapsed": false
   },
   "outputs": [],
   "source": [
    "results.sort_values(by = 'accuracy', ascending = False)"
   ]
  },
  {
   "cell_type": "code",
   "execution_count": null,
   "metadata": {
    "collapsed": false
   },
   "outputs": [],
   "source": [
    "results.sort_values(by = 'recall', ascending = False)"
   ]
  },
  {
   "cell_type": "code",
   "execution_count": null,
   "metadata": {
    "collapsed": false
   },
   "outputs": [],
   "source": [
    "results.sort_values(by = 'precision', ascending = False)"
   ]
  },
  {
   "cell_type": "code",
   "execution_count": null,
   "metadata": {
    "collapsed": false
   },
   "outputs": [],
   "source": [
    "results.sort_values(by = 'f1_score', ascending = False)"
   ]
  },
  {
   "cell_type": "markdown",
   "metadata": {
    "collapsed": false
   },
   "source": [
    "## Testing the best models on the test set"
   ]
  },
  {
   "cell_type": "code",
   "execution_count": null,
   "metadata": {
    "collapsed": false
   },
   "outputs": [],
   "source": [
    "## apply feature engineering to the test set\n",
    "\n",
    "X_test2 = feature_eng(X_test1).copy()"
   ]
  },
  {
   "cell_type": "markdown",
   "metadata": {
    "collapsed": false
   },
   "source": [
    "1. Logistic Regression Undersampled"
   ]
  },
  {
   "cell_type": "code",
   "execution_count": null,
   "metadata": {
    "collapsed": false
   },
   "outputs": [],
   "source": [
    "lr_results_test = lre(X_test2, y_test1, 0.4)\n",
    "get_results(y_test1, lr_results_test['y_pred_lr'])"
   ]
  },
  {
   "cell_type": "markdown",
   "metadata": {
    "collapsed": false
   },
   "source": [
    "2. Logistic Regression Features"
   ]
  },
  {
   "cell_type": "code",
   "execution_count": null,
   "metadata": {
    "collapsed": false
   },
   "outputs": [],
   "source": [
    "## apply feature columns\n",
    "\n",
    "X_test_f = X_test2[features_rf].copy()"
   ]
  },
  {
   "cell_type": "code",
   "execution_count": null,
   "metadata": {
    "collapsed": false
   },
   "outputs": [],
   "source": [
    "lr_results_f_test = lre(X_test_f, y_test1, 0.4)\n",
    "get_results(y_test1, lr_results_f_test['y_pred_lr'])"
   ]
  },
  {
   "cell_type": "markdown",
   "metadata": {
    "collapsed": false
   },
   "source": [
    "3. Features Combined"
   ]
  },
  {
   "cell_type": "code",
   "execution_count": null,
   "metadata": {
    "collapsed": false
   },
   "outputs": [],
   "source": [
    "## Apply the DT function to the test set and get the confusion matrix and scores\n",
    "\n",
    "dt_results_f_test = dtr1(X_test_f, y_test1, dt, 0.4)\n",
    "#get_results(y_test1, dt_results_f_test['y_pred_dt1'])"
   ]
  },
  {
   "cell_type": "code",
   "execution_count": null,
   "metadata": {
    "collapsed": false
   },
   "outputs": [],
   "source": [
    "## Apply the RF function to the test set and get the confusion matrix and scores\n",
    "\n",
    "rf_results_f_test = rfo1(X_test_f, y_test1, 0.4)\n",
    "#get_results(y_test1, rf_results_f_test['y_pred_rf1'])"
   ]
  },
  {
   "cell_type": "code",
   "execution_count": null,
   "metadata": {
    "collapsed": false
   },
   "outputs": [],
   "source": [
    "## First lets combine the models\n",
    "\n",
    "c_test = pd.DataFrame(columns=['lr', 'dt', 'rf'])\n",
    "\n",
    "c_test['lr'] = lr_results_f_test['y_pred_lr']\n",
    "c_test['dt'] = dt_results_f_test['y_pred_dt1']\n",
    "c_test['rf'] = rf_results_f_test['y_pred_rf1']"
   ]
  },
  {
   "cell_type": "code",
   "execution_count": null,
   "metadata": {
    "collapsed": false
   },
   "outputs": [],
   "source": [
    "c_test['mode_y_pred'] = c_test.mode(axis='columns')"
   ]
  },
  {
   "cell_type": "code",
   "execution_count": null,
   "metadata": {
    "collapsed": false
   },
   "outputs": [],
   "source": [
    "combined_test = X_test_f.copy()\n",
    "combined_test['target'] = y_test1\n",
    "combined_test['y_pred'] = c_test['mode_y_pred']"
   ]
  },
  {
   "cell_type": "code",
   "execution_count": null,
   "metadata": {
    "collapsed": false
   },
   "outputs": [],
   "source": [
    "## get the confusion matrix and scores\n",
    "\n",
    "get_results(y_test1, combined_test['y_pred'])"
   ]
  },
  {
   "cell_type": "markdown",
   "metadata": {
    "collapsed": false
   },
   "source": [
    "Logistic Regression undersampled using all columns appears to be the best model on the test sets"
   ]
  },
  {
   "cell_type": "code",
   "execution_count": null,
   "metadata": {
    "collapsed": false
   },
   "outputs": [],
   "source": [
    "#IMPORTANCE FACTORS IN RANDOM FOREST MODEL\n",
    "\n",
    "importance = pd.DataFrame(data={\n",
    "    'Attribute': X_res.columns,\n",
    "    'Importance': lr.coef_[0]})\n",
    "importance = importance.sort_values(by='Importance', ascending=False)\n",
    "importance"
   ]
  },
  {
   "cell_type": "code",
   "execution_count": null,
   "metadata": {
    "collapsed": false
   },
   "outputs": [],
   "source": [
    "plt.figure(figsize = (10,8))\n",
    "sns.lineplot(x = 'Attribute', y = 'Importance', data = importance)\n",
    "plt.xticks(rotation = 45)\n",
    "plt.show()"
   ]
  },
  {
   "cell_type": "code",
   "execution_count": null,
   "metadata": {
    "collapsed": false
   },
   "outputs": [],
   "source": []
  },
  {
   "cell_type": "markdown",
   "metadata": {
    "collapsed": false
   },
   "source": [
    "## Determining at risk patients"
   ]
  },
  {
   "cell_type": "markdown",
   "metadata": {
    "collapsed": false
   },
   "source": [
    "Let's look at the patients with the highest probabilities of dying"
   ]
  },
  {
   "cell_type": "code",
   "execution_count": null,
   "metadata": {
    "collapsed": false
   },
   "outputs": [],
   "source": [
    "## add y back into the datasets\n",
    "\n",
    "lr_results1['target'] = y_res\n",
    "\n",
    "lr_results_test['target'] = y_test1"
   ]
  },
  {
   "cell_type": "code",
   "execution_count": null,
   "metadata": {
    "collapsed": false
   },
   "outputs": [],
   "source": [
    "## join the train and test sets together\n",
    "\n",
    "joined = [lr_results1, lr_results_test]\n",
    "evaluate = pd.concat(joined)\n",
    "evaluate"
   ]
  },
  {
   "cell_type": "code",
   "execution_count": null,
   "metadata": {
    "collapsed": false
   },
   "outputs": [],
   "source": [
    "evaluate['target'].value_counts()"
   ]
  },
  {
   "cell_type": "code",
   "execution_count": null,
   "metadata": {
    "collapsed": false
   },
   "outputs": [],
   "source": [
    "evaluate['y_pred_lr'].value_counts()"
   ]
  },
  {
   "cell_type": "code",
   "execution_count": null,
   "metadata": {
    "collapsed": false
   },
   "outputs": [],
   "source": [
    "top_5000 = evaluate.sort_values(by = 'died', ascending = False).head(5000)\n",
    "top_5000"
   ]
  },
  {
   "cell_type": "code",
   "execution_count": null,
   "metadata": {
    "collapsed": false
   },
   "outputs": [],
   "source": [
    "## export top_5000 to excel so it can be used in tableau\n",
    "\n",
    "## top_5000.to_excel('/Users/katiejones/Documents/Digital Futures/DATASETS/top_5000.xlsx', index=True)"
   ]
  },
  {
   "cell_type": "code",
   "execution_count": null,
   "metadata": {
    "collapsed": false
   },
   "outputs": [],
   "source": [
    "top_5000['y_pred_lr'].value_counts()"
   ]
  },
  {
   "cell_type": "code",
   "execution_count": null,
   "metadata": {
    "collapsed": false
   },
   "outputs": [],
   "source": [
    "top_5000['target'].value_counts()"
   ]
  },
  {
   "cell_type": "code",
   "execution_count": null,
   "metadata": {
    "collapsed": false
   },
   "outputs": [],
   "source": [
    "top_5000[(top_5000['target'] == 1) & (top_5000['y_pred_lr'] == 1)].sort_values('died', ascending = False)"
   ]
  },
  {
   "cell_type": "code",
   "execution_count": null,
   "metadata": {
    "collapsed": false
   },
   "outputs": [],
   "source": [
    "evaluate[(evaluate['target'] == 1) & (evaluate['y_pred_lr'] == 0)].sort_values('died', ascending = False)"
   ]
  },
  {
   "cell_type": "code",
   "execution_count": null,
   "metadata": {
    "collapsed": false
   },
   "outputs": [],
   "source": [
    "at_risk = evaluate[(evaluate['y_pred_lr'] == 1)].sort_values('died', ascending = False)"
   ]
  },
  {
   "cell_type": "code",
   "execution_count": null,
   "metadata": {
    "collapsed": false
   },
   "outputs": [],
   "source": [
    "at_risk[(at_risk['target'] == 0)].sort_values('died', ascending = False),"
   ]
  },
  {
   "cell_type": "code",
   "execution_count": null,
   "metadata": {
    "collapsed": false
   },
   "outputs": [],
   "source": [
    "## export at_risk to excel so it can be used in tableau\n",
    "\n",
    "##at_risk.to_excel('/Users/katiejones/Documents/Digital Futures/DATASETS/at_risk.xlsx', index=True)"
   ]
  },
  {
   "cell_type": "code",
   "execution_count": null,
   "metadata": {
    "collapsed": false
   },
   "outputs": [],
   "source": [
    "def deaths (category):\n",
    "    ax = sns.countplot(x= at_risk[category], palette = 'coolwarm')\n",
    "    plt.title(f'Number of Patients by {category}')\n",
    "\n",
    "    for p in ax.patches:\n",
    "        ax.annotate(format(p.get_height(), '.2f'), (p.get_x() + p.get_width() / 2., p.get_height()), ha = 'center', va = 'center', xytext = (0, 10), textcoords = 'offset points')\n",
    "    plt.show()"
   ]
  },
  {
   "cell_type": "code",
   "execution_count": null,
   "metadata": {
    "collapsed": false
   },
   "outputs": [],
   "source": [
    "\n",
    "list = ['sex', 'pregnant', 'diabetes', 'copd', 'asthma', 'immunosup', 'hypertension', 'other_disease',\n",
    " 'cardiovascular', 'obesity', 'renal_chronic', 'tobacco', 'age_group_15-24', 'age_group_25-34', 'age_group_35-44', 'age_group_45-54', 'age_group_55-64', 'age_group_65-74', 'age_group_75-84', 'age_group_85+']\n",
    "\n",
    "\n",
    "[deaths(i) for i in list]"
   ]
  },
  {
   "cell_type": "code",
   "execution_count": null,
   "metadata": {
    "collapsed": false
   },
   "outputs": [],
   "source": []
  }
 ],
 "metadata": {
  "kernelspec": {
   "display_name": "base",
   "language": "python",
   "name": "python3"
  },
  "language_info": {
   "codemirror_mode": {
    "name": "ipython",
    "version": 3
   },
   "file_extension": ".py",
   "mimetype": "text/x-python",
   "name": "python",
   "nbconvert_exporter": "python",
   "pygments_lexer": "ipython3",
   "version": "3.9.13"
  },
  "vscode": {
   "interpreter": {
    "hash": "2f633f7a24f6c082a41cd96c0d4b262cf2d46a745da3f9bed94dd7a32fc0cd04"
   }
  }
 },
 "nbformat": 4,
 "nbformat_minor": 0
}
